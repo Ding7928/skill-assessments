{
 "cells": [
  {
   "cell_type": "code",
   "execution_count": 2,
   "metadata": {},
   "outputs": [],
   "source": [
    "import numpy as np\n",
    "import pandas as pd\n",
    "import matplotlib.pyplot as plt\n",
    "import seaborn as sns\n",
    "import scipy.stats as stats\n",
    "import plotly.express as px\n",
    "import plotly.io as pio\n",
    "%matplotlib inline"
   ]
  },
  {
   "cell_type": "code",
   "execution_count": 36,
   "metadata": {},
   "outputs": [
    {
     "data": {
      "text/plain": [
       "<bound method NDFrame.describe of       Unnamed: 0 Country Name  Year  Agriculture, value added (% of GDP)  \\\n",
       "0              0  Afghanistan  1962                                  NaN   \n",
       "1              1  Afghanistan  1967                                  NaN   \n",
       "2              2  Afghanistan  1972                                  NaN   \n",
       "3              3  Afghanistan  1977                                  NaN   \n",
       "4              4  Afghanistan  1982                                  NaN   \n",
       "...          ...          ...   ...                                  ...   \n",
       "2602        2602     Zimbabwe  1987                            14.407528   \n",
       "2603        2603     Zimbabwe  1992                             7.413793   \n",
       "2604        2604     Zimbabwe  1997                            18.934082   \n",
       "2605        2605     Zimbabwe  2002                            14.029007   \n",
       "2606        2606     Zimbabwe  2007                            21.597907   \n",
       "\n",
       "      CO2 emissions (metric tons per capita)  \\\n",
       "0                                   0.073781   \n",
       "1                                   0.123782   \n",
       "2                                   0.130820   \n",
       "3                                   0.183118   \n",
       "4                                   0.165879   \n",
       "...                                      ...   \n",
       "2602                                1.598217   \n",
       "2603                                1.533724   \n",
       "2604                                1.194678   \n",
       "2605                                0.942795   \n",
       "2606                                0.743449   \n",
       "\n",
       "      Domestic credit provided by financial sector (% of GDP)  \\\n",
       "0                                             21.276422         \n",
       "1                                              9.917662         \n",
       "2                                             18.880833         \n",
       "3                                             13.836822         \n",
       "4                                                   NaN         \n",
       "...                                                 ...         \n",
       "2602                                          74.161607         \n",
       "2603                                          43.120518         \n",
       "2604                                          63.058320         \n",
       "2605                                         164.559047         \n",
       "2606                                                NaN         \n",
       "\n",
       "      Electric power consumption (kWh per capita)  \\\n",
       "0                                             NaN   \n",
       "1                                             NaN   \n",
       "2                                             NaN   \n",
       "3                                             NaN   \n",
       "4                                             NaN   \n",
       "...                                           ...   \n",
       "2602                                   878.072691   \n",
       "2603                                   778.695133   \n",
       "2604                                   870.988697   \n",
       "2605                                   827.329873   \n",
       "2606                                   700.642317   \n",
       "\n",
       "      Energy use (kg of oil equivalent per capita)  \\\n",
       "0                                              NaN   \n",
       "1                                              NaN   \n",
       "2                                              NaN   \n",
       "3                                              NaN   \n",
       "4                                              NaN   \n",
       "...                                            ...   \n",
       "2602                                    896.673611   \n",
       "2603                                    923.493407   \n",
       "2604                                    804.508892   \n",
       "2605                                    772.676619   \n",
       "2606                                    725.681049   \n",
       "\n",
       "      Exports of goods and services (% of GDP)  \\\n",
       "0                                     4.878051   \n",
       "1                                     6.772908   \n",
       "2                                    14.763231   \n",
       "3                                    11.662904   \n",
       "4                                          NaN   \n",
       "...                                        ...   \n",
       "2602                                 24.015710   \n",
       "2603                                 27.227263   \n",
       "2604                                 37.595273   \n",
       "2605                                 31.834799   \n",
       "2606                                 37.785373   \n",
       "\n",
       "      Fertility rate, total (births per woman)  GDP growth (annual %)  \\\n",
       "0                                        7.450                    NaN   \n",
       "1                                        7.450                    NaN   \n",
       "2                                        7.450                    NaN   \n",
       "3                                        7.449                    NaN   \n",
       "4                                        7.450                    NaN   \n",
       "...                                        ...                    ...   \n",
       "2602                                     5.784               1.150737   \n",
       "2603                                     4.840              -9.015570   \n",
       "2604                                     4.237               2.680594   \n",
       "2605                                     4.018              -8.894023   \n",
       "2606                                     4.022              -3.653327   \n",
       "\n",
       "      Imports of goods and services (% of GDP)  \\\n",
       "0                                     9.349593   \n",
       "1                                    14.209827   \n",
       "2                                    18.105850   \n",
       "3                                    14.823175   \n",
       "4                                          NaN   \n",
       "...                                        ...   \n",
       "2602                                 21.274886   \n",
       "2603                                 36.485231   \n",
       "2604                                 44.609791   \n",
       "2605                                 34.972553   \n",
       "2606                                 46.387531   \n",
       "\n",
       "      Industry, value added (% of GDP)  Inflation, GDP deflator (annual %)  \\\n",
       "0                                  NaN                                 NaN   \n",
       "1                                  NaN                                 NaN   \n",
       "2                                  NaN                                 NaN   \n",
       "3                                  NaN                                 NaN   \n",
       "4                                  NaN                                 NaN   \n",
       "...                                ...                                 ...   \n",
       "2602                         32.451242                            7.189361   \n",
       "2603                         40.862069                          -14.129659   \n",
       "2604                         25.554678                           -2.879048   \n",
       "2605                               NaN                            2.712950   \n",
       "2606                         33.074953                            0.894887   \n",
       "\n",
       "      Life expectancy at birth, total (years)  \\\n",
       "0                                   33.219902   \n",
       "1                                   35.389415   \n",
       "2                                   37.610146   \n",
       "3                                   40.110146   \n",
       "4                                   43.230732   \n",
       "...                                       ...   \n",
       "2602                                61.753805   \n",
       "2603                                56.491976   \n",
       "2604                                46.065902   \n",
       "2605                                40.679146   \n",
       "2606                                44.177756   \n",
       "\n",
       "      Population density (people per sq. km of land area)  \\\n",
       "0                                             14.312061     \n",
       "1                                             15.881812     \n",
       "2                                             17.947027     \n",
       "3                                             19.998926     \n",
       "4                                             19.402324     \n",
       "...                                                 ...     \n",
       "2602                                          24.649495     \n",
       "2603                                          28.485762     \n",
       "2604                                          31.174507     \n",
       "2605                                          32.807111     \n",
       "2606                                          34.374559     \n",
       "\n",
       "      Services, etc., value added (% of GDP)         pop continent   gdpPercap  \n",
       "0                                        NaN  10267083.0      Asia  853.100710  \n",
       "1                                        NaN  11537966.0      Asia  836.197138  \n",
       "2                                        NaN  13079460.0      Asia  739.981106  \n",
       "3                                        NaN  14880372.0      Asia  786.113360  \n",
       "4                                        NaN  12881816.0      Asia  978.011439  \n",
       "...                                      ...         ...       ...         ...  \n",
       "2602                               53.141236   9216418.0    Africa  706.157306  \n",
       "2603                               51.724135  10704340.0    Africa  693.420786  \n",
       "2604                               55.511236  11404948.0    Africa  792.449960  \n",
       "2605                                     NaN  11926563.0    Africa  672.038623  \n",
       "2606                               45.327139  12311143.0    Africa  469.709298  \n",
       "\n",
       "[2607 rows x 20 columns]>"
      ]
     },
     "execution_count": 36,
     "metadata": {},
     "output_type": "execute_result"
    }
   ],
   "source": [
    "df = pd.read_csv('gapminder_clean.csv')\n",
    "df.describe"
   ]
  },
  {
   "cell_type": "code",
   "execution_count": 37,
   "metadata": {},
   "outputs": [
    {
     "data": {
      "text/html": [
       "<div>\n",
       "<style scoped>\n",
       "    .dataframe tbody tr th:only-of-type {\n",
       "        vertical-align: middle;\n",
       "    }\n",
       "\n",
       "    .dataframe tbody tr th {\n",
       "        vertical-align: top;\n",
       "    }\n",
       "\n",
       "    .dataframe thead th {\n",
       "        text-align: right;\n",
       "    }\n",
       "</style>\n",
       "<table border=\"1\" class=\"dataframe\">\n",
       "  <thead>\n",
       "    <tr style=\"text-align: right;\">\n",
       "      <th></th>\n",
       "      <th>Unnamed: 0</th>\n",
       "      <th>Country Name</th>\n",
       "      <th>Year</th>\n",
       "      <th>Agriculture, value added (% of GDP)</th>\n",
       "      <th>CO2 emissions (metric tons per capita)</th>\n",
       "      <th>Domestic credit provided by financial sector (% of GDP)</th>\n",
       "      <th>Electric power consumption (kWh per capita)</th>\n",
       "      <th>Energy use (kg of oil equivalent per capita)</th>\n",
       "      <th>Exports of goods and services (% of GDP)</th>\n",
       "      <th>Fertility rate, total (births per woman)</th>\n",
       "      <th>GDP growth (annual %)</th>\n",
       "      <th>Imports of goods and services (% of GDP)</th>\n",
       "      <th>Industry, value added (% of GDP)</th>\n",
       "      <th>Inflation, GDP deflator (annual %)</th>\n",
       "      <th>Life expectancy at birth, total (years)</th>\n",
       "      <th>Population density (people per sq. km of land area)</th>\n",
       "      <th>Services, etc., value added (% of GDP)</th>\n",
       "      <th>pop</th>\n",
       "      <th>continent</th>\n",
       "      <th>gdpPercap</th>\n",
       "    </tr>\n",
       "  </thead>\n",
       "  <tbody>\n",
       "    <tr>\n",
       "      <th>0</th>\n",
       "      <td>0</td>\n",
       "      <td>Afghanistan</td>\n",
       "      <td>1962</td>\n",
       "      <td>NaN</td>\n",
       "      <td>0.073781</td>\n",
       "      <td>21.276422</td>\n",
       "      <td>NaN</td>\n",
       "      <td>NaN</td>\n",
       "      <td>4.878051</td>\n",
       "      <td>7.450</td>\n",
       "      <td>NaN</td>\n",
       "      <td>9.349593</td>\n",
       "      <td>NaN</td>\n",
       "      <td>NaN</td>\n",
       "      <td>33.219902</td>\n",
       "      <td>14.312061</td>\n",
       "      <td>NaN</td>\n",
       "      <td>10267083.0</td>\n",
       "      <td>Asia</td>\n",
       "      <td>853.100710</td>\n",
       "    </tr>\n",
       "    <tr>\n",
       "      <th>1</th>\n",
       "      <td>1</td>\n",
       "      <td>Afghanistan</td>\n",
       "      <td>1967</td>\n",
       "      <td>NaN</td>\n",
       "      <td>0.123782</td>\n",
       "      <td>9.917662</td>\n",
       "      <td>NaN</td>\n",
       "      <td>NaN</td>\n",
       "      <td>6.772908</td>\n",
       "      <td>7.450</td>\n",
       "      <td>NaN</td>\n",
       "      <td>14.209827</td>\n",
       "      <td>NaN</td>\n",
       "      <td>NaN</td>\n",
       "      <td>35.389415</td>\n",
       "      <td>15.881812</td>\n",
       "      <td>NaN</td>\n",
       "      <td>11537966.0</td>\n",
       "      <td>Asia</td>\n",
       "      <td>836.197138</td>\n",
       "    </tr>\n",
       "    <tr>\n",
       "      <th>2</th>\n",
       "      <td>2</td>\n",
       "      <td>Afghanistan</td>\n",
       "      <td>1972</td>\n",
       "      <td>NaN</td>\n",
       "      <td>0.130820</td>\n",
       "      <td>18.880833</td>\n",
       "      <td>NaN</td>\n",
       "      <td>NaN</td>\n",
       "      <td>14.763231</td>\n",
       "      <td>7.450</td>\n",
       "      <td>NaN</td>\n",
       "      <td>18.105850</td>\n",
       "      <td>NaN</td>\n",
       "      <td>NaN</td>\n",
       "      <td>37.610146</td>\n",
       "      <td>17.947027</td>\n",
       "      <td>NaN</td>\n",
       "      <td>13079460.0</td>\n",
       "      <td>Asia</td>\n",
       "      <td>739.981106</td>\n",
       "    </tr>\n",
       "    <tr>\n",
       "      <th>3</th>\n",
       "      <td>3</td>\n",
       "      <td>Afghanistan</td>\n",
       "      <td>1977</td>\n",
       "      <td>NaN</td>\n",
       "      <td>0.183118</td>\n",
       "      <td>13.836822</td>\n",
       "      <td>NaN</td>\n",
       "      <td>NaN</td>\n",
       "      <td>11.662904</td>\n",
       "      <td>7.449</td>\n",
       "      <td>NaN</td>\n",
       "      <td>14.823175</td>\n",
       "      <td>NaN</td>\n",
       "      <td>NaN</td>\n",
       "      <td>40.110146</td>\n",
       "      <td>19.998926</td>\n",
       "      <td>NaN</td>\n",
       "      <td>14880372.0</td>\n",
       "      <td>Asia</td>\n",
       "      <td>786.113360</td>\n",
       "    </tr>\n",
       "    <tr>\n",
       "      <th>4</th>\n",
       "      <td>4</td>\n",
       "      <td>Afghanistan</td>\n",
       "      <td>1982</td>\n",
       "      <td>NaN</td>\n",
       "      <td>0.165879</td>\n",
       "      <td>NaN</td>\n",
       "      <td>NaN</td>\n",
       "      <td>NaN</td>\n",
       "      <td>NaN</td>\n",
       "      <td>7.450</td>\n",
       "      <td>NaN</td>\n",
       "      <td>NaN</td>\n",
       "      <td>NaN</td>\n",
       "      <td>NaN</td>\n",
       "      <td>43.230732</td>\n",
       "      <td>19.402324</td>\n",
       "      <td>NaN</td>\n",
       "      <td>12881816.0</td>\n",
       "      <td>Asia</td>\n",
       "      <td>978.011439</td>\n",
       "    </tr>\n",
       "  </tbody>\n",
       "</table>\n",
       "</div>"
      ],
      "text/plain": [
       "   Unnamed: 0 Country Name  Year  Agriculture, value added (% of GDP)  \\\n",
       "0           0  Afghanistan  1962                                  NaN   \n",
       "1           1  Afghanistan  1967                                  NaN   \n",
       "2           2  Afghanistan  1972                                  NaN   \n",
       "3           3  Afghanistan  1977                                  NaN   \n",
       "4           4  Afghanistan  1982                                  NaN   \n",
       "\n",
       "   CO2 emissions (metric tons per capita)  \\\n",
       "0                                0.073781   \n",
       "1                                0.123782   \n",
       "2                                0.130820   \n",
       "3                                0.183118   \n",
       "4                                0.165879   \n",
       "\n",
       "   Domestic credit provided by financial sector (% of GDP)  \\\n",
       "0                                          21.276422         \n",
       "1                                           9.917662         \n",
       "2                                          18.880833         \n",
       "3                                          13.836822         \n",
       "4                                                NaN         \n",
       "\n",
       "   Electric power consumption (kWh per capita)  \\\n",
       "0                                          NaN   \n",
       "1                                          NaN   \n",
       "2                                          NaN   \n",
       "3                                          NaN   \n",
       "4                                          NaN   \n",
       "\n",
       "   Energy use (kg of oil equivalent per capita)  \\\n",
       "0                                           NaN   \n",
       "1                                           NaN   \n",
       "2                                           NaN   \n",
       "3                                           NaN   \n",
       "4                                           NaN   \n",
       "\n",
       "   Exports of goods and services (% of GDP)  \\\n",
       "0                                  4.878051   \n",
       "1                                  6.772908   \n",
       "2                                 14.763231   \n",
       "3                                 11.662904   \n",
       "4                                       NaN   \n",
       "\n",
       "   Fertility rate, total (births per woman)  GDP growth (annual %)  \\\n",
       "0                                     7.450                    NaN   \n",
       "1                                     7.450                    NaN   \n",
       "2                                     7.450                    NaN   \n",
       "3                                     7.449                    NaN   \n",
       "4                                     7.450                    NaN   \n",
       "\n",
       "   Imports of goods and services (% of GDP)  Industry, value added (% of GDP)  \\\n",
       "0                                  9.349593                               NaN   \n",
       "1                                 14.209827                               NaN   \n",
       "2                                 18.105850                               NaN   \n",
       "3                                 14.823175                               NaN   \n",
       "4                                       NaN                               NaN   \n",
       "\n",
       "   Inflation, GDP deflator (annual %)  \\\n",
       "0                                 NaN   \n",
       "1                                 NaN   \n",
       "2                                 NaN   \n",
       "3                                 NaN   \n",
       "4                                 NaN   \n",
       "\n",
       "   Life expectancy at birth, total (years)  \\\n",
       "0                                33.219902   \n",
       "1                                35.389415   \n",
       "2                                37.610146   \n",
       "3                                40.110146   \n",
       "4                                43.230732   \n",
       "\n",
       "   Population density (people per sq. km of land area)  \\\n",
       "0                                          14.312061     \n",
       "1                                          15.881812     \n",
       "2                                          17.947027     \n",
       "3                                          19.998926     \n",
       "4                                          19.402324     \n",
       "\n",
       "   Services, etc., value added (% of GDP)         pop continent   gdpPercap  \n",
       "0                                     NaN  10267083.0      Asia  853.100710  \n",
       "1                                     NaN  11537966.0      Asia  836.197138  \n",
       "2                                     NaN  13079460.0      Asia  739.981106  \n",
       "3                                     NaN  14880372.0      Asia  786.113360  \n",
       "4                                     NaN  12881816.0      Asia  978.011439  "
      ]
     },
     "execution_count": 37,
     "metadata": {},
     "output_type": "execute_result"
    }
   ],
   "source": [
    "df.head()"
   ]
  },
  {
   "cell_type": "code",
   "execution_count": 38,
   "metadata": {},
   "outputs": [],
   "source": [
    "#Filter the data to include only rows where Year is 1962.\n",
    "df_1962 = df[df['Year'] == 1962]"
   ]
  },
  {
   "cell_type": "code",
   "execution_count": 39,
   "metadata": {},
   "outputs": [
    {
     "data": {
      "image/png": "[encoded data removed]",
      "text/plain": [
       "<Figure size 640x480 with 1 Axes>"
      ]
     },
     "metadata": {},
     "output_type": "display_data"
    }
   ],
   "source": [
    "#make a scatter plot comparing 'CO2 emissions (metric tons per capita)' and gdpPercap for the filtered data.\n",
    "plt.scatter(df_1962['CO2 emissions (metric tons per capita)'], df_1962['gdpPercap'])\n",
    "plt.title('CO2 Emissions vs. GDP per capita (Year 1962)')\n",
    "plt.xlabel('CO2 emissions (metric tons per capita)')\n",
    "plt.ylabel('GDP per capita')\n",
    "plt.show()"
   ]
  },
  {
   "cell_type": "code",
   "execution_count": 40,
   "metadata": {},
   "outputs": [
    {
     "name": "stdout",
     "output_type": "stream",
     "text": [
      "Correlation: 0.9260816725019473\n",
      "P-value: 1.1286792210036883e-46\n"
     ]
    },
    {
     "name": "stderr",
     "output_type": "stream",
     "text": [
      "/var/folders/tx/lt873txs0695kyyx9kbh1gcc0000gn/T/ipykernel_90164/1983806514.py:2: SettingWithCopyWarning:\n",
      "\n",
      "\n",
      "A value is trying to be set on a copy of a slice from a DataFrame\n",
      "\n",
      "See the caveats in the documentation: https://pandas.pydata.org/pandas-docs/stable/user_guide/indexing.html#returning-a-view-versus-a-copy\n",
      "\n"
     ]
    }
   ],
   "source": [
    "#On the filtered data, calculate the correlation of 'CO2 emissions (metric tons per capita)' and gdpPercap.\n",
    "df_1962.dropna(subset=['CO2 emissions (metric tons per capita)', 'gdpPercap'], inplace=True)\n",
    "corr, p_value = stats.pearsonr(df_1962['CO2 emissions (metric tons per capita)'], df_1962['gdpPercap'])\n",
    "print(\"Correlation:\", corr)\n",
    "print(\"P-value:\", p_value)"
   ]
  },
  {
   "cell_type": "code",
   "execution_count": 41,
   "metadata": {},
   "outputs": [
    {
     "name": "stdout",
     "output_type": "stream",
     "text": [
      "(1962, 'CO2 emissions (metric tons per capita)')\n"
     ]
    },
    {
     "name": "stderr",
     "output_type": "stream",
     "text": [
      "/var/folders/tx/lt873txs0695kyyx9kbh1gcc0000gn/T/ipykernel_90164/3760653074.py:2: FutureWarning:\n",
      "\n",
      "The default value of numeric_only in DataFrameGroupBy.corr is deprecated. In a future version, numeric_only will default to False. Either specify numeric_only or select only columns which should be valid for the function.\n",
      "\n"
     ]
    }
   ],
   "source": [
    "#On the unfiltered data, answer \"In what year is the correlation between 'CO2 emissions (metric tons per capita)' and gdpPercap the strongest?\" \n",
    "corr_by_year = df.groupby('Year').corr(method='pearson')\n",
    "corr_col = corr_by_year['CO2 emissions (metric tons per capita)'].dropna().abs().idxmax()\n",
    "strongest_corr_year = corr_by_year.loc[corr_col].name\n",
    "print(strongest_corr_year)"
   ]
  },
  {
   "cell_type": "code",
   "execution_count": 42,
   "metadata": {},
   "outputs": [
    {
     "data": {
      "text/html": [
       "<div>\n",
       "<style scoped>\n",
       "    .dataframe tbody tr th:only-of-type {\n",
       "        vertical-align: middle;\n",
       "    }\n",
       "\n",
       "    .dataframe tbody tr th {\n",
       "        vertical-align: top;\n",
       "    }\n",
       "\n",
       "    .dataframe thead th {\n",
       "        text-align: right;\n",
       "    }\n",
       "</style>\n",
       "<table border=\"1\" class=\"dataframe\">\n",
       "  <thead>\n",
       "    <tr style=\"text-align: right;\">\n",
       "      <th></th>\n",
       "      <th>Unnamed: 0</th>\n",
       "      <th>Country Name</th>\n",
       "      <th>Year</th>\n",
       "      <th>Agriculture, value added (% of GDP)</th>\n",
       "      <th>CO2 emissions (metric tons per capita)</th>\n",
       "      <th>Domestic credit provided by financial sector (% of GDP)</th>\n",
       "      <th>Electric power consumption (kWh per capita)</th>\n",
       "      <th>Energy use (kg of oil equivalent per capita)</th>\n",
       "      <th>Exports of goods and services (% of GDP)</th>\n",
       "      <th>Fertility rate, total (births per woman)</th>\n",
       "      <th>GDP growth (annual %)</th>\n",
       "      <th>Imports of goods and services (% of GDP)</th>\n",
       "      <th>Industry, value added (% of GDP)</th>\n",
       "      <th>Inflation, GDP deflator (annual %)</th>\n",
       "      <th>Life expectancy at birth, total (years)</th>\n",
       "      <th>Population density (people per sq. km of land area)</th>\n",
       "      <th>Services, etc., value added (% of GDP)</th>\n",
       "      <th>pop</th>\n",
       "      <th>continent</th>\n",
       "      <th>gdpPercap</th>\n",
       "    </tr>\n",
       "  </thead>\n",
       "  <tbody>\n",
       "    <tr>\n",
       "      <th>0</th>\n",
       "      <td>0</td>\n",
       "      <td>Afghanistan</td>\n",
       "      <td>1962</td>\n",
       "      <td>NaN</td>\n",
       "      <td>0.073781</td>\n",
       "      <td>21.276422</td>\n",
       "      <td>NaN</td>\n",
       "      <td>NaN</td>\n",
       "      <td>4.878051</td>\n",
       "      <td>7.450</td>\n",
       "      <td>NaN</td>\n",
       "      <td>9.349593</td>\n",
       "      <td>NaN</td>\n",
       "      <td>NaN</td>\n",
       "      <td>33.219902</td>\n",
       "      <td>14.312061</td>\n",
       "      <td>NaN</td>\n",
       "      <td>10267083.0</td>\n",
       "      <td>Asia</td>\n",
       "      <td>853.100710</td>\n",
       "    </tr>\n",
       "    <tr>\n",
       "      <th>10</th>\n",
       "      <td>10</td>\n",
       "      <td>Albania</td>\n",
       "      <td>1962</td>\n",
       "      <td>NaN</td>\n",
       "      <td>1.439956</td>\n",
       "      <td>NaN</td>\n",
       "      <td>NaN</td>\n",
       "      <td>NaN</td>\n",
       "      <td>NaN</td>\n",
       "      <td>6.282</td>\n",
       "      <td>NaN</td>\n",
       "      <td>NaN</td>\n",
       "      <td>NaN</td>\n",
       "      <td>NaN</td>\n",
       "      <td>64.162854</td>\n",
       "      <td>62.456898</td>\n",
       "      <td>NaN</td>\n",
       "      <td>1728137.0</td>\n",
       "      <td>Europe</td>\n",
       "      <td>2312.888958</td>\n",
       "    </tr>\n",
       "    <tr>\n",
       "      <th>20</th>\n",
       "      <td>20</td>\n",
       "      <td>Algeria</td>\n",
       "      <td>1962</td>\n",
       "      <td>NaN</td>\n",
       "      <td>0.484954</td>\n",
       "      <td>NaN</td>\n",
       "      <td>NaN</td>\n",
       "      <td>NaN</td>\n",
       "      <td>19.793873</td>\n",
       "      <td>7.614</td>\n",
       "      <td>-19.685042</td>\n",
       "      <td>20.818647</td>\n",
       "      <td>NaN</td>\n",
       "      <td>2.351279</td>\n",
       "      <td>47.045000</td>\n",
       "      <td>4.908240</td>\n",
       "      <td>NaN</td>\n",
       "      <td>11000948.0</td>\n",
       "      <td>Africa</td>\n",
       "      <td>2550.816880</td>\n",
       "    </tr>\n",
       "    <tr>\n",
       "      <th>30</th>\n",
       "      <td>30</td>\n",
       "      <td>American Samoa</td>\n",
       "      <td>1962</td>\n",
       "      <td>NaN</td>\n",
       "      <td>NaN</td>\n",
       "      <td>NaN</td>\n",
       "      <td>NaN</td>\n",
       "      <td>NaN</td>\n",
       "      <td>NaN</td>\n",
       "      <td>NaN</td>\n",
       "      <td>NaN</td>\n",
       "      <td>NaN</td>\n",
       "      <td>NaN</td>\n",
       "      <td>NaN</td>\n",
       "      <td>NaN</td>\n",
       "      <td>105.590000</td>\n",
       "      <td>NaN</td>\n",
       "      <td>NaN</td>\n",
       "      <td>NaN</td>\n",
       "      <td>NaN</td>\n",
       "    </tr>\n",
       "    <tr>\n",
       "      <th>40</th>\n",
       "      <td>40</td>\n",
       "      <td>Andorra</td>\n",
       "      <td>1962</td>\n",
       "      <td>NaN</td>\n",
       "      <td>NaN</td>\n",
       "      <td>NaN</td>\n",
       "      <td>NaN</td>\n",
       "      <td>NaN</td>\n",
       "      <td>NaN</td>\n",
       "      <td>NaN</td>\n",
       "      <td>NaN</td>\n",
       "      <td>NaN</td>\n",
       "      <td>NaN</td>\n",
       "      <td>NaN</td>\n",
       "      <td>NaN</td>\n",
       "      <td>32.714894</td>\n",
       "      <td>NaN</td>\n",
       "      <td>NaN</td>\n",
       "      <td>NaN</td>\n",
       "      <td>NaN</td>\n",
       "    </tr>\n",
       "  </tbody>\n",
       "</table>\n",
       "</div>"
      ],
      "text/plain": [
       "    Unnamed: 0    Country Name  Year  Agriculture, value added (% of GDP)  \\\n",
       "0            0     Afghanistan  1962                                  NaN   \n",
       "10          10         Albania  1962                                  NaN   \n",
       "20          20         Algeria  1962                                  NaN   \n",
       "30          30  American Samoa  1962                                  NaN   \n",
       "40          40         Andorra  1962                                  NaN   \n",
       "\n",
       "    CO2 emissions (metric tons per capita)  \\\n",
       "0                                 0.073781   \n",
       "10                                1.439956   \n",
       "20                                0.484954   \n",
       "30                                     NaN   \n",
       "40                                     NaN   \n",
       "\n",
       "    Domestic credit provided by financial sector (% of GDP)  \\\n",
       "0                                           21.276422         \n",
       "10                                                NaN         \n",
       "20                                                NaN         \n",
       "30                                                NaN         \n",
       "40                                                NaN         \n",
       "\n",
       "    Electric power consumption (kWh per capita)  \\\n",
       "0                                           NaN   \n",
       "10                                          NaN   \n",
       "20                                          NaN   \n",
       "30                                          NaN   \n",
       "40                                          NaN   \n",
       "\n",
       "    Energy use (kg of oil equivalent per capita)  \\\n",
       "0                                            NaN   \n",
       "10                                           NaN   \n",
       "20                                           NaN   \n",
       "30                                           NaN   \n",
       "40                                           NaN   \n",
       "\n",
       "    Exports of goods and services (% of GDP)  \\\n",
       "0                                   4.878051   \n",
       "10                                       NaN   \n",
       "20                                 19.793873   \n",
       "30                                       NaN   \n",
       "40                                       NaN   \n",
       "\n",
       "    Fertility rate, total (births per woman)  GDP growth (annual %)  \\\n",
       "0                                      7.450                    NaN   \n",
       "10                                     6.282                    NaN   \n",
       "20                                     7.614             -19.685042   \n",
       "30                                       NaN                    NaN   \n",
       "40                                       NaN                    NaN   \n",
       "\n",
       "    Imports of goods and services (% of GDP)  \\\n",
       "0                                   9.349593   \n",
       "10                                       NaN   \n",
       "20                                 20.818647   \n",
       "30                                       NaN   \n",
       "40                                       NaN   \n",
       "\n",
       "    Industry, value added (% of GDP)  Inflation, GDP deflator (annual %)  \\\n",
       "0                                NaN                                 NaN   \n",
       "10                               NaN                                 NaN   \n",
       "20                               NaN                            2.351279   \n",
       "30                               NaN                                 NaN   \n",
       "40                               NaN                                 NaN   \n",
       "\n",
       "    Life expectancy at birth, total (years)  \\\n",
       "0                                 33.219902   \n",
       "10                                64.162854   \n",
       "20                                47.045000   \n",
       "30                                      NaN   \n",
       "40                                      NaN   \n",
       "\n",
       "    Population density (people per sq. km of land area)  \\\n",
       "0                                           14.312061     \n",
       "10                                          62.456898     \n",
       "20                                           4.908240     \n",
       "30                                         105.590000     \n",
       "40                                          32.714894     \n",
       "\n",
       "    Services, etc., value added (% of GDP)         pop continent    gdpPercap  \n",
       "0                                      NaN  10267083.0      Asia   853.100710  \n",
       "10                                     NaN   1728137.0    Europe  2312.888958  \n",
       "20                                     NaN  11000948.0    Africa  2550.816880  \n",
       "30                                     NaN         NaN       NaN          NaN  \n",
       "40                                     NaN         NaN       NaN          NaN  "
      ]
     },
     "execution_count": 42,
     "metadata": {},
     "output_type": "execute_result"
    }
   ],
   "source": [
    "# Filter the dataset to that year\n",
    "df_strongest_corr_year = df[df['Year'] == 1962]\n",
    "df_strongest_corr_year.head(5)"
   ]
  },
  {
   "cell_type": "code",
   "execution_count": 43,
   "metadata": {},
   "outputs": [
    {
     "data": {
      "text/html": [
       "<div>\n",
       "<style scoped>\n",
       "    .dataframe tbody tr th:only-of-type {\n",
       "        vertical-align: middle;\n",
       "    }\n",
       "\n",
       "    .dataframe tbody tr th {\n",
       "        vertical-align: top;\n",
       "    }\n",
       "\n",
       "    .dataframe thead th {\n",
       "        text-align: right;\n",
       "    }\n",
       "</style>\n",
       "<table border=\"1\" class=\"dataframe\">\n",
       "  <thead>\n",
       "    <tr style=\"text-align: right;\">\n",
       "      <th></th>\n",
       "      <th>Unnamed: 0</th>\n",
       "      <th>Country Name</th>\n",
       "      <th>Year</th>\n",
       "      <th>Agriculture, value added (% of GDP)</th>\n",
       "      <th>CO2 emissions (metric tons per capita)</th>\n",
       "      <th>Domestic credit provided by financial sector (% of GDP)</th>\n",
       "      <th>Electric power consumption (kWh per capita)</th>\n",
       "      <th>Energy use (kg of oil equivalent per capita)</th>\n",
       "      <th>Exports of goods and services (% of GDP)</th>\n",
       "      <th>Fertility rate, total (births per woman)</th>\n",
       "      <th>GDP growth (annual %)</th>\n",
       "      <th>Imports of goods and services (% of GDP)</th>\n",
       "      <th>Industry, value added (% of GDP)</th>\n",
       "      <th>Inflation, GDP deflator (annual %)</th>\n",
       "      <th>Life expectancy at birth, total (years)</th>\n",
       "      <th>Population density (people per sq. km of land area)</th>\n",
       "      <th>Services, etc., value added (% of GDP)</th>\n",
       "      <th>pop</th>\n",
       "      <th>continent</th>\n",
       "      <th>gdpPercap</th>\n",
       "    </tr>\n",
       "  </thead>\n",
       "  <tbody>\n",
       "    <tr>\n",
       "      <th>0</th>\n",
       "      <td>0</td>\n",
       "      <td>Afghanistan</td>\n",
       "      <td>1962</td>\n",
       "      <td>NaN</td>\n",
       "      <td>0.073781</td>\n",
       "      <td>21.276422</td>\n",
       "      <td>NaN</td>\n",
       "      <td>NaN</td>\n",
       "      <td>4.878051</td>\n",
       "      <td>7.450</td>\n",
       "      <td>NaN</td>\n",
       "      <td>9.349593</td>\n",
       "      <td>NaN</td>\n",
       "      <td>NaN</td>\n",
       "      <td>33.219902</td>\n",
       "      <td>14.312061</td>\n",
       "      <td>NaN</td>\n",
       "      <td>10267083.0</td>\n",
       "      <td>Asia</td>\n",
       "      <td>853.100710</td>\n",
       "    </tr>\n",
       "    <tr>\n",
       "      <th>10</th>\n",
       "      <td>10</td>\n",
       "      <td>Albania</td>\n",
       "      <td>1962</td>\n",
       "      <td>NaN</td>\n",
       "      <td>1.439956</td>\n",
       "      <td>NaN</td>\n",
       "      <td>NaN</td>\n",
       "      <td>NaN</td>\n",
       "      <td>NaN</td>\n",
       "      <td>6.282</td>\n",
       "      <td>NaN</td>\n",
       "      <td>NaN</td>\n",
       "      <td>NaN</td>\n",
       "      <td>NaN</td>\n",
       "      <td>64.162854</td>\n",
       "      <td>62.456898</td>\n",
       "      <td>NaN</td>\n",
       "      <td>1728137.0</td>\n",
       "      <td>Europe</td>\n",
       "      <td>2312.888958</td>\n",
       "    </tr>\n",
       "    <tr>\n",
       "      <th>20</th>\n",
       "      <td>20</td>\n",
       "      <td>Algeria</td>\n",
       "      <td>1962</td>\n",
       "      <td>NaN</td>\n",
       "      <td>0.484954</td>\n",
       "      <td>NaN</td>\n",
       "      <td>NaN</td>\n",
       "      <td>NaN</td>\n",
       "      <td>19.793873</td>\n",
       "      <td>7.614</td>\n",
       "      <td>-19.685042</td>\n",
       "      <td>20.818647</td>\n",
       "      <td>NaN</td>\n",
       "      <td>2.351279</td>\n",
       "      <td>47.045000</td>\n",
       "      <td>4.908240</td>\n",
       "      <td>NaN</td>\n",
       "      <td>11000948.0</td>\n",
       "      <td>Africa</td>\n",
       "      <td>2550.816880</td>\n",
       "    </tr>\n",
       "    <tr>\n",
       "      <th>50</th>\n",
       "      <td>50</td>\n",
       "      <td>Angola</td>\n",
       "      <td>1962</td>\n",
       "      <td>NaN</td>\n",
       "      <td>0.216025</td>\n",
       "      <td>NaN</td>\n",
       "      <td>NaN</td>\n",
       "      <td>NaN</td>\n",
       "      <td>NaN</td>\n",
       "      <td>7.396</td>\n",
       "      <td>NaN</td>\n",
       "      <td>NaN</td>\n",
       "      <td>NaN</td>\n",
       "      <td>NaN</td>\n",
       "      <td>33.787585</td>\n",
       "      <td>4.384299</td>\n",
       "      <td>NaN</td>\n",
       "      <td>4826015.0</td>\n",
       "      <td>Africa</td>\n",
       "      <td>4269.276742</td>\n",
       "    </tr>\n",
       "    <tr>\n",
       "      <th>80</th>\n",
       "      <td>80</td>\n",
       "      <td>Argentina</td>\n",
       "      <td>1962</td>\n",
       "      <td>NaN</td>\n",
       "      <td>2.522392</td>\n",
       "      <td>17.265977</td>\n",
       "      <td>NaN</td>\n",
       "      <td>NaN</td>\n",
       "      <td>4.691843</td>\n",
       "      <td>3.089</td>\n",
       "      <td>-0.852022</td>\n",
       "      <td>9.383683</td>\n",
       "      <td>NaN</td>\n",
       "      <td>28.871842</td>\n",
       "      <td>65.432610</td>\n",
       "      <td>7.778624</td>\n",
       "      <td>NaN</td>\n",
       "      <td>21283783.0</td>\n",
       "      <td>Americas</td>\n",
       "      <td>7133.166023</td>\n",
       "    </tr>\n",
       "  </tbody>\n",
       "</table>\n",
       "</div>"
      ],
      "text/plain": [
       "    Unnamed: 0 Country Name  Year  Agriculture, value added (% of GDP)  \\\n",
       "0            0  Afghanistan  1962                                  NaN   \n",
       "10          10      Albania  1962                                  NaN   \n",
       "20          20      Algeria  1962                                  NaN   \n",
       "50          50       Angola  1962                                  NaN   \n",
       "80          80    Argentina  1962                                  NaN   \n",
       "\n",
       "    CO2 emissions (metric tons per capita)  \\\n",
       "0                                 0.073781   \n",
       "10                                1.439956   \n",
       "20                                0.484954   \n",
       "50                                0.216025   \n",
       "80                                2.522392   \n",
       "\n",
       "    Domestic credit provided by financial sector (% of GDP)  \\\n",
       "0                                           21.276422         \n",
       "10                                                NaN         \n",
       "20                                                NaN         \n",
       "50                                                NaN         \n",
       "80                                          17.265977         \n",
       "\n",
       "    Electric power consumption (kWh per capita)  \\\n",
       "0                                           NaN   \n",
       "10                                          NaN   \n",
       "20                                          NaN   \n",
       "50                                          NaN   \n",
       "80                                          NaN   \n",
       "\n",
       "    Energy use (kg of oil equivalent per capita)  \\\n",
       "0                                            NaN   \n",
       "10                                           NaN   \n",
       "20                                           NaN   \n",
       "50                                           NaN   \n",
       "80                                           NaN   \n",
       "\n",
       "    Exports of goods and services (% of GDP)  \\\n",
       "0                                   4.878051   \n",
       "10                                       NaN   \n",
       "20                                 19.793873   \n",
       "50                                       NaN   \n",
       "80                                  4.691843   \n",
       "\n",
       "    Fertility rate, total (births per woman)  GDP growth (annual %)  \\\n",
       "0                                      7.450                    NaN   \n",
       "10                                     6.282                    NaN   \n",
       "20                                     7.614             -19.685042   \n",
       "50                                     7.396                    NaN   \n",
       "80                                     3.089              -0.852022   \n",
       "\n",
       "    Imports of goods and services (% of GDP)  \\\n",
       "0                                   9.349593   \n",
       "10                                       NaN   \n",
       "20                                 20.818647   \n",
       "50                                       NaN   \n",
       "80                                  9.383683   \n",
       "\n",
       "    Industry, value added (% of GDP)  Inflation, GDP deflator (annual %)  \\\n",
       "0                                NaN                                 NaN   \n",
       "10                               NaN                                 NaN   \n",
       "20                               NaN                            2.351279   \n",
       "50                               NaN                                 NaN   \n",
       "80                               NaN                           28.871842   \n",
       "\n",
       "    Life expectancy at birth, total (years)  \\\n",
       "0                                 33.219902   \n",
       "10                                64.162854   \n",
       "20                                47.045000   \n",
       "50                                33.787585   \n",
       "80                                65.432610   \n",
       "\n",
       "    Population density (people per sq. km of land area)  \\\n",
       "0                                           14.312061     \n",
       "10                                          62.456898     \n",
       "20                                           4.908240     \n",
       "50                                           4.384299     \n",
       "80                                           7.778624     \n",
       "\n",
       "    Services, etc., value added (% of GDP)         pop continent    gdpPercap  \n",
       "0                                      NaN  10267083.0      Asia   853.100710  \n",
       "10                                     NaN   1728137.0    Europe  2312.888958  \n",
       "20                                     NaN  11000948.0    Africa  2550.816880  \n",
       "50                                     NaN   4826015.0    Africa  4269.276742  \n",
       "80                                     NaN  21283783.0  Americas  7133.166023  "
      ]
     },
     "execution_count": 43,
     "metadata": {},
     "output_type": "execute_result"
    }
   ],
   "source": [
    "df_scatter = df_strongest_corr_year[~df_strongest_corr_year['pop'].isnull()]\n",
    "df_scatter.head(5)"
   ]
  },
  {
   "cell_type": "code",
   "execution_count": 44,
   "metadata": {},
   "outputs": [
    {
     "data": {
      "text/plain": [
       "array(['Asia', 'Europe', 'Africa', 'Americas', 'Oceania'], dtype=object)"
      ]
     },
     "execution_count": 44,
     "metadata": {},
     "output_type": "execute_result"
    }
   ],
   "source": [
    "continent = df_scatter['continent'].unique()\n",
    "continent"
   ]
  },
  {
   "cell_type": "code",
   "execution_count": 45,
   "metadata": {},
   "outputs": [
    {
     "data": {
      "application/vnd.plotly.v1+json": {
       "config": {
        "plotlyServerURL": "https://plot.ly"
       },
       "data": [
        {
         "hovertemplate": "continent=Asia<br>CO2 emissions (metric tons per capita)=%{x}<br>gdpPercap=%{y}<br>pop=%{marker.size}<extra></extra>",
         "legendgroup": "Asia",
         "marker": {
          "color": "#636efa",
          "size": [
           10267083,
           171863,
           56839289,
           6083619,
           665770000,
           454000000,
           99028000,
           7240260,
           2310904,
           95831757,
           933559,
           358266,
           1886848,
           8906385,
           1010280,
           23634436,
           10332057,
           628164,
           53100671,
           30325264,
           4943029,
           1750200,
           10421936,
           29263397,
           33796140
          ],
          "sizemode": "area",
          "sizeref": 1664425,
          "symbol": "circle"
         },
         "mode": "markers",
         "name": "Asia",
         "orientation": "v",
         "showlegend": true,
         "type": "scatter",
         "x": [
          0.0737813379863999,
          9.19360857735,
          null,
          0.0511105919396,
          0.661428164381,
          0.306519469024,
          0.248446979292,
          1.17690410231,
          3.46389969472,
          3.05973635111,
          1.08930257389,
          42.6371176837,
          1.48373168315,
          null,
          1.95074792748,
          0.128404767028,
          0.00848101403663,
          null,
          0.34177551477,
          0.36851208177,
          1.43389833694,
          1.47291795223,
          0.245449870727,
          0.173129692727,
          0.258759875979
         ],
         "xaxis": "x",
         "y": [
          853.1007099999999,
          12753.27514,
          686.3415537999999,
          496.9136476,
          487.6740183,
          658.3471509,
          849.2897700999999,
          8341.737815,
          7105.630706,
          6576.649461,
          2348.009158,
          95458.11176,
          5714.560611,
          2036.884944,
          1056.353958,
          388,
          652.3968593,
          2924.638113,
          803.3427418,
          1649.552153,
          11626.41975,
          3674.735572,
          1074.47196,
          1002.199172,
          772.0491602000001
         ],
         "yaxis": "y"
        },
        {
         "hovertemplate": "continent=Europe<br>CO2 emissions (metric tons per capita)=%{x}<br>gdpPercap=%{y}<br>pop=%{marker.size}<extra></extra>",
         "legendgroup": "Europe",
         "marker": {
          "color": "#EF553B",
          "size": [
           1728137,
           7129864,
           9218400,
           3349000,
           8012946,
           4076557,
           9620282,
           4646899,
           4491443,
           47124000,
           73739117,
           8448233,
           10063000,
           182053,
           2830000,
           50843200,
           474528,
           11805689,
           3638919,
           30329617,
           9019800,
           18680721,
           7616060,
           4237384,
           1582962,
           31158061,
           7561588,
           5666000,
           29788695,
           53292000
          ],
          "sizemode": "area",
          "sizeref": 1664425,
          "symbol": "circle"
         },
         "mode": "markers",
         "name": "Europe",
         "orientation": "v",
         "showlegend": true,
         "type": "scatter",
         "x": [
          1.43995596379,
          4.7553616731,
          10.6411896304,
          null,
          3.83589181807,
          null,
          null,
          7.945107361080001,
          3.74256736643,
          6.20757823899,
          null,
          1.2032011901200002,
          5.025038030219999,
          6.57485551985,
          4.62633804058,
          2.87849638705,
          null,
          7.060853796839999,
          3.86862605863,
          7.15360516027,
          1.0343778647600002,
          3.4202858664999995,
          null,
          null,
          null,
          1.93578153318,
          6.787859772309999,
          4.3335720686800006,
          0.748240893242,
          11.1429283944
         ],
         "xaxis": "x",
         "y": [
          2312.888958,
          10750.72111,
          10991.20676,
          1709.683679,
          4254.337839,
          5477.890018,
          10136.86713,
          13583.31351,
          9371.842561,
          10560.48553,
          12902.46291,
          6017.190732999999,
          7550.359877,
          10350.15906,
          6631.597314,
          8243.58234,
          4649.593785,
          12790.84956,
          13450.40151,
          5338.752143,
          4727.954889,
          4734.997586,
          6289.629157,
          7481.107598,
          7402.303395,
          5693.843879,
          12329.44192,
          20431.0927,
          2322.869908,
          12477.17707
         ],
         "yaxis": "y"
        },
        {
         "hovertemplate": "continent=Africa<br>CO2 emissions (metric tons per capita)=%{x}<br>gdpPercap=%{y}<br>pop=%{marker.size}<extra></extra>",
         "legendgroup": "Africa",
         "marker": {
          "color": "#00cc96",
          "size": [
           11000948,
           4826015,
           2151895,
           512764,
           4919632,
           2961915,
           5793633,
           1523478,
           3150417,
           191689,
           3832408,
           89898,
           249220,
           1666618,
           25145372,
           455661,
           7355248,
           3140003,
           627820,
           8678557,
           893143,
           1112796,
           1441863,
           5703324,
           3628608,
           4690372,
           1146757,
           701016,
           13056604,
           7788944,
           621392,
           4076008,
           41871351,
           3051242,
           65345,
           3430243,
           2467895,
           3080153,
           18356657,
           11183227,
           370006,
           10863958,
           1528098,
           4286552,
           7688797,
           3421000,
           4277736
          ],
          "sizemode": "area",
          "sizeref": 1664425,
          "symbol": "circle"
         },
         "mode": "markers",
         "name": "Africa",
         "orientation": "v",
         "showlegend": true,
         "type": "scatter",
         "x": [
          0.484953660141,
          0.216025342555,
          0.0542015282643,
          null,
          0.0170031197553,
          0.0152025731471,
          0.0517885260883,
          0.0471138131996,
          0.0270119656401,
          0.0564269593763,
          0.156855909486,
          0.5060615711249999,
          0.0852989067225,
          null,
          0.0170548363485,
          0.172630373122,
          0.202357559414,
          0.178831523506,
          0.0640297282582,
          0.304273984865,
          null,
          0.216209634212,
          0.6827006449699999,
          0.0739884401703,
          null,
          0.0258941544429,
          0.0685667838429,
          0.361281304036,
          0.235120747573,
          0.254829220109,
          null,
          0.018352266424,
          0.0887217732028,
          0.0276473843144,
          0.1707460925979999,
          0.24254227941,
          0.145725026244,
          0.0369895900581,
          5.729711710680001,
          0.134379625666,
          null,
          0.0717344659547,
          0.0545698734714,
          0.4129873717800001,
          0.0592582617361,
          null,
          null
         ],
         "xaxis": "x",
         "y": [
          2550.81688,
          4269.276742,
          949.4990641,
          983.6539764,
          722.5120206,
          355.2032273,
          1399.607441,
          1193.068753,
          1389.817618,
          1406.648278,
          1728.8694280000002,
          3020.989263,
          582.8419713999999,
          380.9958433000001,
          419.4564161,
          6631.459222,
          1190.041118,
          686.3736739,
          522.0343725,
          896.9663732,
          411.8006266,
          634.1951625,
          6757.030816,
          1643.38711,
          427.9010856,
          496.1743428,
          1055.896036,
          2529.0674870000003,
          1566.353493,
          556.6863539,
          3173.215595,
          997.7661127,
          1150.9274779999998,
          597.4730727000001,
          1071.551119,
          1654.988723,
          1116.6398769999998,
          1369.488336,
          5768.729717,
          1959.593767,
          1856.182125,
          722.0038073,
          1067.53481,
          1660.30321,
          767.2717397999999,
          1452.725766,
          527.2721818
         ],
         "yaxis": "y"
        },
        {
         "hovertemplate": "continent=Americas<br>CO2 emissions (metric tons per capita)=%{x}<br>gdpPercap=%{y}<br>pop=%{marker.size}<extra></extra>",
         "legendgroup": "Americas",
         "marker": {
          "color": "#ab63fa",
          "size": [
           21283783,
           3593918,
           76039390,
           18985849,
           7961258,
           17009885,
           1345187,
           7254373,
           3453434,
           4681707,
           2747687,
           4208858,
           3880130,
           2090162,
           1665128,
           41121485,
           1590597,
           1215725,
           2009813,
           10516500,
           2448046,
           887498,
           186538000,
           2598466
          ],
          "sizemode": "area",
          "sizeref": 1664425,
          "symbol": "circle"
         },
         "mode": "markers",
         "name": "Americas",
         "orientation": "v",
         "showlegend": true,
         "type": "scatter",
         "x": [
          2.5223921045,
          0.28662649397,
          0.6972807432160001,
          11.1306274847,
          2.07658831467,
          1.11098569008,
          0.383956810879,
          1.90181472038,
          0.353029129213,
          0.325336408962,
          0.221683679656,
          0.317326737332,
          0.0756628306695,
          0.327409489867,
          1.26277490114,
          1.5697444180899998,
          0.349874904588,
          0.991186587845,
          0.195662374952,
          0.93614496813,
          null,
          8.22557012974,
          16.013937498,
          1.54065748629
         ],
         "xaxis": "x",
         "y": [
          7133.166023000001,
          2180.972546,
          3336.585802,
          13462.48555,
          4519.094331,
          2492.351109,
          3460.937025,
          5180.75591,
          1662.137359,
          4086.114078,
          3776.803627,
          2750.364446,
          1796.589032,
          2291.156835,
          5246.107524,
          4581.609385,
          3634.364406,
          3536.540301,
          2148.027146,
          4957.037982,
          5108.34463,
          4997.5239710000005,
          16173.14586,
          5603.357717
         ],
         "yaxis": "y"
        },
        {
         "hovertemplate": "continent=Oceania<br>CO2 emissions (metric tons per capita)=%{x}<br>gdpPercap=%{y}<br>pop=%{marker.size}<extra></extra>",
         "legendgroup": "Oceania",
         "marker": {
          "color": "#FFA15A",
          "size": [
           10794968,
           2488550
          ],
          "sizemode": "area",
          "sizeref": 1664425,
          "symbol": "circle"
         },
         "mode": "markers",
         "name": "Oceania",
         "orientation": "v",
         "showlegend": true,
         "type": "scatter",
         "x": [
          8.83568804692,
          4.51652659146
         ],
         "xaxis": "x",
         "y": [
          12217.22686,
          13175.678
         ],
         "yaxis": "y"
        }
       ],
       "layout": {
        "legend": {
         "itemsizing": "constant",
         "title": {
          "text": "continent"
         },
         "tracegroupgap": 0
        },
        "margin": {
         "t": 60
        },
        "template": {
         "data": {
          "bar": [
           {
            "error_x": {
             "color": "#2a3f5f"
            },
            "error_y": {
             "color": "#2a3f5f"
            },
            "marker": {
             "line": {
              "color": "#E5ECF6",
              "width": 0.5
             },
             "pattern": {
              "fillmode": "overlay",
              "size": 10,
              "solidity": 0.2
             }
            },
            "type": "bar"
           }
          ],
          "barpolar": [
           {
            "marker": {
             "line": {
              "color": "#E5ECF6",
              "width": 0.5
             },
             "pattern": {
              "fillmode": "overlay",
              "size": 10,
              "solidity": 0.2
             }
            },
            "type": "barpolar"
           }
          ],
          "carpet": [
           {
            "aaxis": {
             "endlinecolor": "#2a3f5f",
             "gridcolor": "white",
             "linecolor": "white",
             "minorgridcolor": "white",
             "startlinecolor": "#2a3f5f"
            },
            "baxis": {
             "endlinecolor": "#2a3f5f",
             "gridcolor": "white",
             "linecolor": "white",
             "minorgridcolor": "white",
             "startlinecolor": "#2a3f5f"
            },
            "type": "carpet"
           }
          ],
          "choropleth": [
           {
            "colorbar": {
             "outlinewidth": 0,
             "ticks": ""
            },
            "type": "choropleth"
           }
          ],
          "contour": [
           {
            "colorbar": {
             "outlinewidth": 0,
             "ticks": ""
            },
            "colorscale": [
             [
              0,
              "#0d0887"
             ],
             [
              0.1111111111111111,
              "#46039f"
             ],
             [
              0.2222222222222222,
              "#7201a8"
             ],
             [
              0.3333333333333333,
              "#9c179e"
             ],
             [
              0.4444444444444444,
              "#bd3786"
             ],
             [
              0.5555555555555556,
              "#d8576b"
             ],
             [
              0.6666666666666666,
              "#ed7953"
             ],
             [
              0.7777777777777778,
              "#fb9f3a"
             ],
             [
              0.8888888888888888,
              "#fdca26"
             ],
             [
              1,
              "#f0f921"
             ]
            ],
            "type": "contour"
           }
          ],
          "contourcarpet": [
           {
            "colorbar": {
             "outlinewidth": 0,
             "ticks": ""
            },
            "type": "contourcarpet"
           }
          ],
          "heatmap": [
           {
            "colorbar": {
             "outlinewidth": 0,
             "ticks": ""
            },
            "colorscale": [
             [
              0,
              "#0d0887"
             ],
             [
              0.1111111111111111,
              "#46039f"
             ],
             [
              0.2222222222222222,
              "#7201a8"
             ],
             [
              0.3333333333333333,
              "#9c179e"
             ],
             [
              0.4444444444444444,
              "#bd3786"
             ],
             [
              0.5555555555555556,
              "#d8576b"
             ],
             [
              0.6666666666666666,
              "#ed7953"
             ],
             [
              0.7777777777777778,
              "#fb9f3a"
             ],
             [
              0.8888888888888888,
              "#fdca26"
             ],
             [
              1,
              "#f0f921"
             ]
            ],
            "type": "heatmap"
           }
          ],
          "heatmapgl": [
           {
            "colorbar": {
             "outlinewidth": 0,
             "ticks": ""
            },
            "colorscale": [
             [
              0,
              "#0d0887"
             ],
             [
              0.1111111111111111,
              "#46039f"
             ],
             [
              0.2222222222222222,
              "#7201a8"
             ],
             [
              0.3333333333333333,
              "#9c179e"
             ],
             [
              0.4444444444444444,
              "#bd3786"
             ],
             [
              0.5555555555555556,
              "#d8576b"
             ],
             [
              0.6666666666666666,
              "#ed7953"
             ],
             [
              0.7777777777777778,
              "#fb9f3a"
             ],
             [
              0.8888888888888888,
              "#fdca26"
             ],
             [
              1,
              "#f0f921"
             ]
            ],
            "type": "heatmapgl"
           }
          ],
          "histogram": [
           {
            "marker": {
             "pattern": {
              "fillmode": "overlay",
              "size": 10,
              "solidity": 0.2
             }
            },
            "type": "histogram"
           }
          ],
          "histogram2d": [
           {
            "colorbar": {
             "outlinewidth": 0,
             "ticks": ""
            },
            "colorscale": [
             [
              0,
              "#0d0887"
             ],
             [
              0.1111111111111111,
              "#46039f"
             ],
             [
              0.2222222222222222,
              "#7201a8"
             ],
             [
              0.3333333333333333,
              "#9c179e"
             ],
             [
              0.4444444444444444,
              "#bd3786"
             ],
             [
              0.5555555555555556,
              "#d8576b"
             ],
             [
              0.6666666666666666,
              "#ed7953"
             ],
             [
              0.7777777777777778,
              "#fb9f3a"
             ],
             [
              0.8888888888888888,
              "#fdca26"
             ],
             [
              1,
              "#f0f921"
             ]
            ],
            "type": "histogram2d"
           }
          ],
          "histogram2dcontour": [
           {
            "colorbar": {
             "outlinewidth": 0,
             "ticks": ""
            },
            "colorscale": [
             [
              0,
              "#0d0887"
             ],
             [
              0.1111111111111111,
              "#46039f"
             ],
             [
              0.2222222222222222,
              "#7201a8"
             ],
             [
              0.3333333333333333,
              "#9c179e"
             ],
             [
              0.4444444444444444,
              "#bd3786"
             ],
             [
              0.5555555555555556,
              "#d8576b"
             ],
             [
              0.6666666666666666,
              "#ed7953"
             ],
             [
              0.7777777777777778,
              "#fb9f3a"
             ],
             [
              0.8888888888888888,
              "#fdca26"
             ],
             [
              1,
              "#f0f921"
             ]
            ],
            "type": "histogram2dcontour"
           }
          ],
          "mesh3d": [
           {
            "colorbar": {
             "outlinewidth": 0,
             "ticks": ""
            },
            "type": "mesh3d"
           }
          ],
          "parcoords": [
           {
            "line": {
             "colorbar": {
              "outlinewidth": 0,
              "ticks": ""
             }
            },
            "type": "parcoords"
           }
          ],
          "pie": [
           {
            "automargin": true,
            "type": "pie"
           }
          ],
          "scatter": [
           {
            "fillpattern": {
             "fillmode": "overlay",
             "size": 10,
             "solidity": 0.2
            },
            "type": "scatter"
           }
          ],
          "scatter3d": [
           {
            "line": {
             "colorbar": {
              "outlinewidth": 0,
              "ticks": ""
             }
            },
            "marker": {
             "colorbar": {
              "outlinewidth": 0,
              "ticks": ""
             }
            },
            "type": "scatter3d"
           }
          ],
          "scattercarpet": [
           {
            "marker": {
             "colorbar": {
              "outlinewidth": 0,
              "ticks": ""
             }
            },
            "type": "scattercarpet"
           }
          ],
          "scattergeo": [
           {
            "marker": {
             "colorbar": {
              "outlinewidth": 0,
              "ticks": ""
             }
            },
            "type": "scattergeo"
           }
          ],
          "scattergl": [
           {
            "marker": {
             "colorbar": {
              "outlinewidth": 0,
              "ticks": ""
             }
            },
            "type": "scattergl"
           }
          ],
          "scattermapbox": [
           {
            "marker": {
             "colorbar": {
              "outlinewidth": 0,
              "ticks": ""
             }
            },
            "type": "scattermapbox"
           }
          ],
          "scatterpolar": [
           {
            "marker": {
             "colorbar": {
              "outlinewidth": 0,
              "ticks": ""
             }
            },
            "type": "scatterpolar"
           }
          ],
          "scatterpolargl": [
           {
            "marker": {
             "colorbar": {
              "outlinewidth": 0,
              "ticks": ""
             }
            },
            "type": "scatterpolargl"
           }
          ],
          "scatterternary": [
           {
            "marker": {
             "colorbar": {
              "outlinewidth": 0,
              "ticks": ""
             }
            },
            "type": "scatterternary"
           }
          ],
          "surface": [
           {
            "colorbar": {
             "outlinewidth": 0,
             "ticks": ""
            },
            "colorscale": [
             [
              0,
              "#0d0887"
             ],
             [
              0.1111111111111111,
              "#46039f"
             ],
             [
              0.2222222222222222,
              "#7201a8"
             ],
             [
              0.3333333333333333,
              "#9c179e"
             ],
             [
              0.4444444444444444,
              "#bd3786"
             ],
             [
              0.5555555555555556,
              "#d8576b"
             ],
             [
              0.6666666666666666,
              "#ed7953"
             ],
             [
              0.7777777777777778,
              "#fb9f3a"
             ],
             [
              0.8888888888888888,
              "#fdca26"
             ],
             [
              1,
              "#f0f921"
             ]
            ],
            "type": "surface"
           }
          ],
          "table": [
           {
            "cells": {
             "fill": {
              "color": "#EBF0F8"
             },
             "line": {
              "color": "white"
             }
            },
            "header": {
             "fill": {
              "color": "#C8D4E3"
             },
             "line": {
              "color": "white"
             }
            },
            "type": "table"
           }
          ]
         },
         "layout": {
          "annotationdefaults": {
           "arrowcolor": "#2a3f5f",
           "arrowhead": 0,
           "arrowwidth": 1
          },
          "autotypenumbers": "strict",
          "coloraxis": {
           "colorbar": {
            "outlinewidth": 0,
            "ticks": ""
           }
          },
          "colorscale": {
           "diverging": [
            [
             0,
             "#8e0152"
            ],
            [
             0.1,
             "#c51b7d"
            ],
            [
             0.2,
             "#de77ae"
            ],
            [
             0.3,
             "#f1b6da"
            ],
            [
             0.4,
             "#fde0ef"
            ],
            [
             0.5,
             "#f7f7f7"
            ],
            [
             0.6,
             "#e6f5d0"
            ],
            [
             0.7,
             "#b8e186"
            ],
            [
             0.8,
             "#7fbc41"
            ],
            [
             0.9,
             "#4d9221"
            ],
            [
             1,
             "#276419"
            ]
           ],
           "sequential": [
            [
             0,
             "#0d0887"
            ],
            [
             0.1111111111111111,
             "#46039f"
            ],
            [
             0.2222222222222222,
             "#7201a8"
            ],
            [
             0.3333333333333333,
             "#9c179e"
            ],
            [
             0.4444444444444444,
             "#bd3786"
            ],
            [
             0.5555555555555556,
             "#d8576b"
            ],
            [
             0.6666666666666666,
             "#ed7953"
            ],
            [
             0.7777777777777778,
             "#fb9f3a"
            ],
            [
             0.8888888888888888,
             "#fdca26"
            ],
            [
             1,
             "#f0f921"
            ]
           ],
           "sequentialminus": [
            [
             0,
             "#0d0887"
            ],
            [
             0.1111111111111111,
             "#46039f"
            ],
            [
             0.2222222222222222,
             "#7201a8"
            ],
            [
             0.3333333333333333,
             "#9c179e"
            ],
            [
             0.4444444444444444,
             "#bd3786"
            ],
            [
             0.5555555555555556,
             "#d8576b"
            ],
            [
             0.6666666666666666,
             "#ed7953"
            ],
            [
             0.7777777777777778,
             "#fb9f3a"
            ],
            [
             0.8888888888888888,
             "#fdca26"
            ],
            [
             1,
             "#f0f921"
            ]
           ]
          },
          "colorway": [
           "#636efa",
           "#EF553B",
           "#00cc96",
           "#ab63fa",
           "#FFA15A",
           "#19d3f3",
           "#FF6692",
           "#B6E880",
           "#FF97FF",
           "#FECB52"
          ],
          "font": {
           "color": "#2a3f5f"
          },
          "geo": {
           "bgcolor": "white",
           "lakecolor": "white",
           "landcolor": "#E5ECF6",
           "showlakes": true,
           "showland": true,
           "subunitcolor": "white"
          },
          "hoverlabel": {
           "align": "left"
          },
          "hovermode": "closest",
          "mapbox": {
           "style": "light"
          },
          "paper_bgcolor": "white",
          "plot_bgcolor": "#E5ECF6",
          "polar": {
           "angularaxis": {
            "gridcolor": "white",
            "linecolor": "white",
            "ticks": ""
           },
           "bgcolor": "#E5ECF6",
           "radialaxis": {
            "gridcolor": "white",
            "linecolor": "white",
            "ticks": ""
           }
          },
          "scene": {
           "xaxis": {
            "backgroundcolor": "#E5ECF6",
            "gridcolor": "white",
            "gridwidth": 2,
            "linecolor": "white",
            "showbackground": true,
            "ticks": "",
            "zerolinecolor": "white"
           },
           "yaxis": {
            "backgroundcolor": "#E5ECF6",
            "gridcolor": "white",
            "gridwidth": 2,
            "linecolor": "white",
            "showbackground": true,
            "ticks": "",
            "zerolinecolor": "white"
           },
           "zaxis": {
            "backgroundcolor": "#E5ECF6",
            "gridcolor": "white",
            "gridwidth": 2,
            "linecolor": "white",
            "showbackground": true,
            "ticks": "",
            "zerolinecolor": "white"
           }
          },
          "shapedefaults": {
           "line": {
            "color": "#2a3f5f"
           }
          },
          "ternary": {
           "aaxis": {
            "gridcolor": "white",
            "linecolor": "white",
            "ticks": ""
           },
           "baxis": {
            "gridcolor": "white",
            "linecolor": "white",
            "ticks": ""
           },
           "bgcolor": "#E5ECF6",
           "caxis": {
            "gridcolor": "white",
            "linecolor": "white",
            "ticks": ""
           }
          },
          "title": {
           "x": 0.05
          },
          "xaxis": {
           "automargin": true,
           "gridcolor": "white",
           "linecolor": "white",
           "ticks": "",
           "title": {
            "standoff": 15
           },
           "zerolinecolor": "white",
           "zerolinewidth": 2
          },
          "yaxis": {
           "automargin": true,
           "gridcolor": "white",
           "linecolor": "white",
           "ticks": "",
           "title": {
            "standoff": 15
           },
           "zerolinecolor": "white",
           "zerolinewidth": 2
          }
         }
        },
        "xaxis": {
         "anchor": "y",
         "domain": [
          0,
          1
         ],
         "title": {
          "text": "CO2 emissions (metric tons per capita)"
         }
        },
        "yaxis": {
         "anchor": "x",
         "domain": [
          0,
          1
         ],
         "title": {
          "text": "gdpPercap"
         }
        }
       }
      }
     },
     "metadata": {},
     "output_type": "display_data"
    }
   ],
   "source": [
    "#create an interactive scatter plot comparing 'CO2 emissions (metric tons per capita)' and gdpPercap, where the point size is determined by pop (population) and the color is determined by the continent.\n",
    "fig = px.scatter(df_scatter, x=\"CO2 emissions (metric tons per capita)\", y=\"gdpPercap\", size=\"pop\", color=\"continent\")\n",
    "fig.show()"
   ]
  },
  {
   "cell_type": "markdown",
   "metadata": {},
   "source": [
    "Question1:What is the relationship between continent and 'Energy use (kg of oil equivalent per capita)'?\n",
    "\n",
    "Answer: We used boxplots to visually represent the distribution of energy use across different continents.To determine whether there were statistically significant differences in energy use between the continents, we employed an ANOVA test, ANOVA was chosen because it is suitable for situations where there are multiple groups being compared, in this case we compared energy use across continents with more than two groups (e.g., Africa, Asia, Europe, etc.).\n",
    "The results of the analysis revealed that there are indeed significant differences in energy use among the continents. This suggests that the continent factor has a significant effect on energy use, as the amount of energy used per capita varies significantly across different continents."
   ]
  },
  {
   "cell_type": "code",
   "execution_count": 46,
   "metadata": {},
   "outputs": [
    {
     "name": "stdout",
     "output_type": "stream",
     "text": [
      "ANOVA F-value: 51.45915759042634\n",
      "ANOVA p-value: 8.527003487154367e-39\n"
     ]
    },
    {
     "data": {
      "image/png": "[encoded data removed]",
      "text/plain": [
       "<Figure size 640x480 with 1 Axes>"
      ]
     },
     "metadata": {},
     "output_type": "display_data"
    }
   ],
   "source": [
    "# boxplot\n",
    "sns.boxplot(data=df,x='continent',y='Energy use (kg of oil equivalent per capita)')\n",
    "plt.title('Energy use by continent')\n",
    "plt.ylabel('Energy use (kg of oil equivalent per capita)')\n",
    "plt.xlabel('continent')\n",
    "\n",
    "# ANOVA test\n",
    "df_1 = df[~df['continent'].isnull()]\n",
    "df_1 = df_1[~df_1['Energy use (kg of oil equivalent per capita)'].isnull()]\n",
    "df_1.head(5)\n",
    "\n",
    "fval, pval = stats.f_oneway(df_1[df_1['continent'] == 'Africa']['Energy use (kg of oil equivalent per capita)'],\n",
    "                           df_1[df_1['continent'] == 'Americas']['Energy use (kg of oil equivalent per capita)'],\n",
    "                           df_1[df_1['continent'] == 'Asia']['Energy use (kg of oil equivalent per capita)'],\n",
    "                           df_1[df_1['continent'] == 'Europe']['Energy use (kg of oil equivalent per capita)'],\n",
    "                           df_1[df_1['continent'] == 'Oceania']['Energy use (kg of oil equivalent per capita)'])\n",
    "\n",
    "\n",
    "print(f'ANOVA F-value: {fval}')\n",
    "print(f'ANOVA p-value: {pval}')"
   ]
  },
  {
   "cell_type": "markdown",
   "metadata": {},
   "source": [
    "Question2:Is there a significant difference between Europe and Asia with respect to 'Imports of goods and services (% of GDP)' in the years after 1990? (Stats test needed)\n",
    "\n",
    "To compare the 'Imports of goods and services (% of GDP)' between Europe and Asia in the years after 1990, we created a line plot to visually represent the trend over time for both continents. Additionally, a t-test was used to determine if there is a statistically significant difference in imports between Europe and Asia. T-test is typically used when comparing two groups on a single variable.\n",
    "The results of the analysis revealed that there are no significant differences in Imports of goods and services (% of GDP)' between Europe and Asia in the years after 1990."
   ]
  },
  {
   "cell_type": "code",
   "execution_count": 47,
   "metadata": {},
   "outputs": [
    {
     "name": "stdout",
     "output_type": "stream",
     "text": [
      "T-test statistics:-1.0979607386870058\n",
      "T-test p-value:0.2735222291887188\n"
     ]
    },
    {
     "data": {
      "image/png": "[encoded data removed]",
      "text/plain": [
       "<Figure size 640x480 with 1 Axes>"
      ]
     },
     "metadata": {},
     "output_type": "display_data"
    }
   ],
   "source": [
    "# line plots\n",
    "df_Europe = df_1[(df_1['continent'] == 'Europe') & (df_1['Year'] > 1990) & ~df_1['Imports of goods and services (% of GDP)'].isnull()]\n",
    "df_Asia = df_1[(df_1['continent'] == 'Asia') & (df_1['Year'] >1990) & ~df_1['Imports of goods and services (% of GDP)'].isnull()]\n",
    "\n",
    "plt.plot(df_Europe['Year'],df_Europe['Imports of goods and services (% of GDP)'], label = 'Europe')\n",
    "plt.plot(df_Asia['Year'],df_Asia['Imports of goods and services (% of GDP)'], label = 'Asia')\n",
    "plt.title('Imports of goods and services (% of GDP) in Europe and Asia after 1990')\n",
    "plt.xlabel('Year')\n",
    "plt.ylabel('Imports of goods and services (% of GDP)')\n",
    "plt.legend()\n",
    "\n",
    "# t-test\n",
    "tstat,pval = stats.ttest_ind(df_Europe['Imports of goods and services (% of GDP)'],\n",
    "                            df_Asia['Imports of goods and services (% of GDP)'])\n",
    "\n",
    "print(f'T-test statistics:{tstat}')\n",
    "print(f'T-test p-value:{pval}')"
   ]
  },
  {
   "cell_type": "markdown",
   "metadata": {},
   "source": [
    "Question3: What is the country (or countries) that has the highest 'Population density (people per sq. km of land area)' across all years? (i.e., which country has the highest average ranking in this category across each time point in the dataset?)\n",
    "\n",
    "Answer: To find the country (or countries) with the highest 'Population density (people per sq. km of land area)' across all years, we can create a bar chart to visualize the average ranking of population density for each country across all time points in the dataset.\n",
    "Monaco and Macao SAR, China have the highest 'Population density (people per sq. km of land area)' across all years."
   ]
  },
  {
   "cell_type": "code",
   "execution_count": 2,
   "metadata": {},
   "outputs": [
    {
     "ename": "NameError",
     "evalue": "name 'df' is not defined",
     "output_type": "error",
     "traceback": [
      "\u001b[0;31m---------------------------------------------------------------------------\u001b[0m",
      "\u001b[0;31mNameError\u001b[0m                                 Traceback (most recent call last)",
      "Input \u001b[0;32mIn [2]\u001b[0m, in \u001b[0;36m<cell line: 2>\u001b[0;34m()\u001b[0m\n\u001b[1;32m      1\u001b[0m \u001b[38;5;66;03m# calculate highest 'Population density'\u001b[39;00m\n\u001b[0;32m----> 2\u001b[0m df_rank \u001b[38;5;241m=\u001b[39m \u001b[43mdf\u001b[49m[\u001b[38;5;241m~\u001b[39mdf[\u001b[38;5;124m'\u001b[39m\u001b[38;5;124mPopulation density (people per sq. km of land area)\u001b[39m\u001b[38;5;124m'\u001b[39m]\u001b[38;5;241m.\u001b[39misnull()]\n\u001b[1;32m      3\u001b[0m df_rank \u001b[38;5;241m=\u001b[39m df_rank[[\u001b[38;5;124m'\u001b[39m\u001b[38;5;124mYear\u001b[39m\u001b[38;5;124m'\u001b[39m, \u001b[38;5;124m'\u001b[39m\u001b[38;5;124mCountry Name\u001b[39m\u001b[38;5;124m'\u001b[39m, \u001b[38;5;124m'\u001b[39m\u001b[38;5;124mPopulation density (people per sq. km of land area)\u001b[39m\u001b[38;5;124m'\u001b[39m]]\n\u001b[1;32m      4\u001b[0m df_rank[\u001b[38;5;124m'\u001b[39m\u001b[38;5;124mrank\u001b[39m\u001b[38;5;124m'\u001b[39m] \u001b[38;5;241m=\u001b[39m df_rank\u001b[38;5;241m.\u001b[39mgroupby(\u001b[38;5;124m'\u001b[39m\u001b[38;5;124mYear\u001b[39m\u001b[38;5;124m'\u001b[39m)[\u001b[38;5;124m'\u001b[39m\u001b[38;5;124mPopulation density (people per sq. km of land area)\u001b[39m\u001b[38;5;124m'\u001b[39m]\u001b[38;5;241m.\u001b[39mrank()\n",
      "\u001b[0;31mNameError\u001b[0m: name 'df' is not defined"
     ]
    }
   ],
   "source": [
    "# calculate highest 'Population density'\n",
    "df_rank = df[~df['Population density (people per sq. km of land area)'].isnull()]\n",
    "df_rank = df_rank[['Year', 'Country Name', 'Population density (people per sq. km of land area)']]\n",
    "df_rank['rank'] = df_rank.groupby('Year')['Population density (people per sq. km of land area)'].rank()\n",
    "df_rank_country = df_rank[['Country Name', 'rank']]\n",
    "df_rank_country = df_rank_country.groupby('Country Name').mean().reset_index()\n",
    "df_rank_country= df_rank_country.sort_values('rank')\n",
    "df_rank_country.columns = ['country', 'rank']\n",
    "df_rank_country.head()\n",
    "fig = px.bar(data_frame=df_rank_country, x = 'country', y ='rank')\n",
    "fig.show()\n",
    "\n",
    "highest_density = df_rank_country['rank'].max()\n",
    "print(f'highest rank: {highest_density}')\n",
    "\n",
    "highest_countries = (df_rank_country.loc[df_rank_country['rank']==highest_density])['country'].values.tolist()\n",
    "print(f'country (or countries) that has the highest density across all years: {highest_countries}')\n",
    "\n"
   ]
  },
  {
   "cell_type": "markdown",
   "metadata": {},
   "source": [
    "Question4: What country (or countries) has shown the greatest increase in 'Life expectancy at birth, total (years)' between 1962 and 2007?\n",
    "\n",
    "Answer: To find the country (or countries) that has shown the greatest increase in 'Life expectancy at birth, total (years)' between 1962 and 2007, we can calculate the difference in life expectancy between 2007 and 1962 for each country, and then sort the countries by this difference in descending order to identify the countries with the greatest increase.\n",
    "Maldives has shown the greatest increase in 'Life expectancy at birth, total (years)' between 1962 and 2007."
   ]
  },
  {
   "cell_type": "code",
   "execution_count": 49,
   "metadata": {},
   "outputs": [
    {
     "data": {
      "text/html": [
       "<div>\n",
       "<style scoped>\n",
       "    .dataframe tbody tr th:only-of-type {\n",
       "        vertical-align: middle;\n",
       "    }\n",
       "\n",
       "    .dataframe tbody tr th {\n",
       "        vertical-align: top;\n",
       "    }\n",
       "\n",
       "    .dataframe thead th {\n",
       "        text-align: right;\n",
       "    }\n",
       "</style>\n",
       "<table border=\"1\" class=\"dataframe\">\n",
       "  <thead>\n",
       "    <tr style=\"text-align: right;\">\n",
       "      <th></th>\n",
       "      <th>country</th>\n",
       "      <th>year</th>\n",
       "      <th>le</th>\n",
       "    </tr>\n",
       "  </thead>\n",
       "  <tbody>\n",
       "    <tr>\n",
       "      <th>0</th>\n",
       "      <td>Afghanistan</td>\n",
       "      <td>1962</td>\n",
       "      <td>33.219902</td>\n",
       "    </tr>\n",
       "    <tr>\n",
       "      <th>9</th>\n",
       "      <td>Afghanistan</td>\n",
       "      <td>2007</td>\n",
       "      <td>57.833829</td>\n",
       "    </tr>\n",
       "    <tr>\n",
       "      <th>10</th>\n",
       "      <td>Albania</td>\n",
       "      <td>1962</td>\n",
       "      <td>64.162854</td>\n",
       "    </tr>\n",
       "    <tr>\n",
       "      <th>19</th>\n",
       "      <td>Albania</td>\n",
       "      <td>2007</td>\n",
       "      <td>76.470293</td>\n",
       "    </tr>\n",
       "    <tr>\n",
       "      <th>20</th>\n",
       "      <td>Algeria</td>\n",
       "      <td>1962</td>\n",
       "      <td>47.045000</td>\n",
       "    </tr>\n",
       "  </tbody>\n",
       "</table>\n",
       "</div>"
      ],
      "text/plain": [
       "        country  year         le\n",
       "0   Afghanistan  1962  33.219902\n",
       "9   Afghanistan  2007  57.833829\n",
       "10      Albania  1962  64.162854\n",
       "19      Albania  2007  76.470293\n",
       "20      Algeria  1962  47.045000"
      ]
     },
     "execution_count": 49,
     "metadata": {},
     "output_type": "execute_result"
    }
   ],
   "source": [
    "#calculate difference in life expectancy between 2007 and 1962 for each country and sort the countries by this difference in descending order \n",
    "df_lei = df[df['Year'].isin([2007, 1962])]\n",
    "df_lei = df_lei[['Country Name', 'Year', 'Life expectancy at birth, total (years)']]\n",
    "df_lei.columns = ['country', 'year', 'le']\n",
    "df_lei.head()"
   ]
  },
  {
   "cell_type": "code",
   "execution_count": 50,
   "metadata": {},
   "outputs": [
    {
     "name": "stdout",
     "output_type": "stream",
     "text": [
      "highest life expectancy increase: 36.916146341499996\n",
      "country (or countries) has shown the greatest increase in Life expectancy at birth between 1962 and 2007: ['Maldives']\n"
     ]
    },
    {
     "data": {
      "application/vnd.plotly.v1+json": {
       "config": {
        "plotlyServerURL": "https://plot.ly"
       },
       "data": [
        {
         "alignmentgroup": "True",
         "hovertemplate": "country=%{x}<br>lei=%{y}<extra></extra>",
         "legendgroup": "",
         "marker": {
          "color": "#636efa",
          "pattern": {
           "shape": ""
          }
         },
         "name": "",
         "offsetgroup": "",
         "orientation": "v",
         "showlegend": false,
         "textposition": "auto",
         "type": "bar",
         "x": [
          "Maldives",
          "Bhutan",
          "Timor-Leste",
          "Tunisia",
          "Oman",
          "Nepal",
          "China",
          "Yemen, Rep.",
          "Saudi Arabia",
          "Iran, Islamic Rep.",
          "Turkey",
          "East Asia & Pacific (IDA & IBRD countries)",
          "East Asia & Pacific (excluding high income)",
          "Gambia, The",
          "Libya",
          "Algeria",
          "Mali",
          "Korea, Rep.",
          "Afghanistan",
          "Nicaragua",
          "Peru",
          "Honduras",
          "East Asia & Pacific",
          "Guatemala",
          "Senegal",
          "Cambodia",
          "Middle East & North Africa (excluding high income)",
          "Middle East & North Africa",
          "Middle East & North Africa (IDA & IBRD countries)",
          "India",
          "Cabo Verde",
          "South Asia",
          "South Asia (IDA & IBRD)",
          "Late-demographic dividend",
          "Vanuatu",
          "Upper middle income",
          "Morocco",
          "Bolivia",
          "Liberia",
          "Eritrea",
          "United Arab Emirates",
          "Bangladesh",
          "Papua New Guinea",
          "Arab World",
          "Madagascar",
          "Bahrain",
          "Chile",
          "IBRD only",
          "Egypt, Arab Rep.",
          "Samoa",
          "Syrian Arab Republic",
          "Early-demographic dividend",
          "Ecuador",
          "Gabon",
          "Myanmar",
          "Middle income",
          "Niger",
          "Burkina Faso",
          "Benin",
          "South Sudan",
          "El Salvador",
          "Low & middle income",
          "IDA & IBRD total",
          "Lao PDR",
          "Dominican Republic",
          "Guinea",
          "Jordan",
          "Ethiopia",
          "Comoros",
          "Least developed countries: UN classification",
          "Lower middle income",
          "IDA only",
          "Iraq",
          "French Polynesia",
          "Indonesia",
          "Mexico",
          "Fragile and conflict affected situations",
          "Pakistan",
          "Equatorial Guinea",
          "Brazil",
          "Thailand",
          "Low income",
          "Haiti",
          "Latin America & the Caribbean (IDA & IBRD countries)",
          "Korea, Dem. People�s Rep.",
          "Latin America & Caribbean (excluding high income)",
          "New Caledonia",
          "Latin America & Caribbean",
          "Costa Rica",
          "Mauritania",
          "World",
          "Heavily indebted poor countries (HIPC)",
          "Mongolia",
          "Solomon Islands",
          "Mozambique",
          "IDA total",
          "Angola",
          "Somalia",
          "Rwanda",
          "Guam",
          "Colombia",
          "St. Lucia",
          "Pre-demographic dividend",
          "Sierra Leone",
          "Kiribati",
          "Portugal",
          "Qatar",
          "Panama",
          "Guinea-Bissau",
          "Virgin Islands",
          "Hong Kong SAR, China",
          "Vietnam",
          "Singapore",
          "Djibouti",
          "Tanzania",
          "Japan",
          "Pacific island small states",
          "Togo",
          "Bosnia and Herzegovina",
          "Lebanon",
          "Sri Lanka",
          "Congo, Dem. Rep.",
          "Sao Tome and Principe",
          "Macao SAR, China",
          "Cuba",
          "Malawi",
          "Malaysia",
          "Sub-Saharan Africa",
          "Sub-Saharan Africa (IDA & IBRD countries)",
          "Sub-Saharan Africa (excluding high income)",
          "Brunei Darussalam",
          "Venezuela, RB",
          "Ghana",
          "Barbados",
          "Macedonia, FYR",
          "IDA blend",
          "Albania",
          "Italy",
          "Antigua and Barbuda",
          "Fiji",
          "Kuwait",
          "Mauritius",
          "St. Vincent and the Grenadines",
          "Nigeria",
          "Sudan",
          "Burundi",
          "Malta",
          "Spain",
          "Grenada",
          "OECD members",
          "Other small states",
          "Kyrgyz Republic",
          "Austria",
          "France",
          "Finland",
          "Namibia",
          "Bahamas, The",
          "Greece",
          "Switzerland",
          "Cote d'Ivoire",
          "Euro area",
          "High income",
          "Luxembourg",
          "Australia",
          "Croatia",
          "Tajikistan",
          "Cameroon",
          "Chad",
          "Post-demographic dividend",
          "Germany",
          "Micronesia, Fed. Sts.",
          "Tonga",
          "Small states",
          "Slovenia",
          "Argentina",
          "Belgium",
          "Ireland",
          "European Union",
          "Turkmenistan",
          "Puerto Rico",
          "Canada",
          "Georgia",
          "Suriname",
          "Philippines",
          "Montenegro",
          "New Zealand",
          "Cyprus",
          "Jamaica",
          "Channel Islands",
          "United Kingdom",
          "Uganda",
          "Israel",
          "Belize",
          "Central African Republic",
          "Caribbean small states",
          "Aruba",
          "Azerbaijan",
          "Kenya",
          "North America",
          "United States",
          "Botswana",
          "Uzbekistan",
          "Poland",
          "Iceland",
          "Uruguay",
          "Sweden",
          "Paraguay",
          "Europe & Central Asia",
          "Kazakhstan",
          "Armenia",
          "Norway",
          "Czech Republic",
          "Netherlands",
          "Zambia",
          "Central Europe and the Baltics",
          "Congo, Rep.",
          "Denmark",
          "Moldova",
          "Romania",
          "Trinidad and Tobago",
          "Europe & Central Asia (IDA & IBRD countries)",
          "Hungary",
          "Guyana",
          "Europe & Central Asia (excluding high income)",
          "Estonia",
          "Slovak Republic",
          "Bulgaria",
          "South Africa",
          "Swaziland",
          "Lithuania",
          "Latvia",
          "Belarus",
          "Russian Federation",
          "Ukraine",
          "Lesotho",
          "Zimbabwe"
         ],
         "xaxis": "x",
         "y": [
          36.916146341499996,
          33.19895121950001,
          31.085146341499993,
          30.860756097599996,
          30.823097560999983,
          30.5996341464,
          29.942097560999997,
          27.215243902399997,
          26.650560975599987,
          26.608390244,
          26.340365853599998,
          26.140864032799996,
          26.017740384299998,
          25.9083414634,
          25.867439024299998,
          25.853365853699998,
          25.7134634147,
          24.8654146341,
          24.6139268293,
          24.2757804878,
          24.244170731700002,
          24.225780487799994,
          24.161698983100003,
          23.4224878049,
          23.338170731700004,
          23.034902439,
          23.031226136199997,
          23.022387012099998,
          23.021217616199998,
          22.883024390299994,
          22.78285365859999,
          22.304956571699996,
          22.304956571699996,
          22.300966809099997,
          22.260536585299995,
          22.1216112849,
          21.990048780400002,
          21.937073170700003,
          21.837073170800004,
          21.8178292682,
          21.7841707317,
          21.775999999999996,
          21.594024390199998,
          21.1984053268,
          21.115195121999996,
          20.8894878049,
          20.7981463415,
          20.768728024899993,
          20.67578048779999,
          20.5912682927,
          20.3782682927,
          20.290744968400006,
          20.1074878048,
          20.0187804878,
          19.9423170731,
          19.9152178534,
          19.789560975600004,
          19.7829268292,
          19.677975609800008,
          19.558731707300005,
          19.541780487800004,
          19.426140362099993,
          19.228998882800006,
          19.018609756100005,
          18.832073170799994,
          18.739097561,
          18.709853658499995,
          18.7093414634,
          18.474585365799996,
          18.434845975200005,
          18.313580842000007,
          17.809934495700006,
          17.780658536500006,
          17.721317073199998,
          17.681926829299996,
          17.4076829269,
          17.27174285880001,
          17.2217560975,
          17.183902439100002,
          17.179170731699998,
          17.129219512199988,
          16.923596187500003,
          16.713585365899995,
          16.658012623699996,
          16.5508780488,
          16.525586640499988,
          16.507317073200007,
          16.378939963800008,
          16.346536585399996,
          16.3145121951,
          16.236963813899997,
          16.157162581,
          15.908121951200009,
          15.8850975609,
          15.709829268299998,
          15.695900832700005,
          15.648146341399993,
          15.2574390244,
          15.108292682900014,
          15.088219512099997,
          14.966292682899997,
          14.948512195100001,
          14.744958255500002,
          14.7355853659,
          14.70646341470001,
          14.627804877999992,
          14.5568292683,
          14.418097560900001,
          14.3882439024,
          14.3618292683,
          14.196731707300003,
          14.073317073100007,
          14.00921951219999,
          13.954902439000001,
          13.915536585399998,
          13.912195121899998,
          13.905312479900005,
          13.878341463400005,
          13.803512195099998,
          13.735487804899996,
          13.682536585300006,
          13.612902438999996,
          13.590707317100005,
          13.440463414600003,
          13.310975609799996,
          13.298317073199996,
          13.201585365900009,
          13.1291145541,
          13.1291145541,
          13.127105735500002,
          13.09965853660001,
          12.95858536579999,
          12.953317073099996,
          12.660243902400005,
          12.4624878049,
          12.308476757200005,
          12.307439024399997,
          12.284390243899992,
          12.204682926800004,
          12.025951219500001,
          11.9615121951,
          11.9438292683,
          11.860195121899991,
          11.7290731708,
          11.6734146342,
          11.595682926800002,
          11.587902439000004,
          11.354146341499998,
          11.174658536599992,
          11.0214569754,
          10.9766562115,
          10.892463414599995,
          10.870975609799999,
          10.797560975700009,
          10.685609756100007,
          10.679707317000009,
          10.651439024399998,
          10.546756097499994,
          10.545365853600003,
          10.545000000000002,
          10.496936269599999,
          10.391097357600003,
          10.384804878099999,
          10.350243902399995,
          10.2973658537,
          10.232804878099998,
          10.073195122000001,
          10.030365853700005,
          9.881827049500004,
          9.841634146399983,
          9.836902439000006,
          9.639707317099997,
          9.635960698200009,
          9.582926829299993,
          9.576439024400003,
          9.5634146342,
          9.5534878048,
          9.453641894300006,
          9.3516341463,
          9.280926829199998,
          9.267317073200005,
          9.186682926800003,
          9.070634146299987,
          9.050170731700007,
          8.978731707300028,
          8.919512195099998,
          8.617268292700004,
          8.612658536599994,
          8.580707317000005,
          8.521951219499996,
          8.507097561000002,
          8.392682926799992,
          8.377658536599995,
          8.3686097561,
          8.264086659999997,
          8.161219512200006,
          8.111926829200002,
          8.047048780499999,
          8.015739247300004,
          7.868292682900005,
          7.8195365853999945,
          7.818195121999992,
          7.817073170699999,
          7.731707317100003,
          7.6543902438999964,
          7.549512195100007,
          7.467926829299998,
          7.432086828400003,
          7.305804878099998,
          7.054804878099986,
          6.947073170699994,
          6.937560975600007,
          6.77365853660001,
          6.623487804900002,
          6.244590015699998,
          5.957365853700004,
          5.8753658535999875,
          5.665707316999992,
          5.5367804878000015,
          5.499463414600001,
          5.372748366599993,
          5.2853658537,
          5.1327560976000015,
          5.120779302600013,
          4.072585365799995,
          3.7129756097999973,
          3.171463414599998,
          2.1832195122000044,
          1.9544390244000027,
          1.8046341463000033,
          1.5890243902000094,
          1.5675853657999994,
          0.4761463415000122,
          -0.9239024390000026,
          -2.5200243901999997,
          -8.100146341399999
         ],
         "yaxis": "y"
        }
       ],
       "layout": {
        "barmode": "relative",
        "legend": {
         "tracegroupgap": 0
        },
        "margin": {
         "t": 60
        },
        "template": {
         "data": {
          "bar": [
           {
            "error_x": {
             "color": "#2a3f5f"
            },
            "error_y": {
             "color": "#2a3f5f"
            },
            "marker": {
             "line": {
              "color": "#E5ECF6",
              "width": 0.5
             },
             "pattern": {
              "fillmode": "overlay",
              "size": 10,
              "solidity": 0.2
             }
            },
            "type": "bar"
           }
          ],
          "barpolar": [
           {
            "marker": {
             "line": {
              "color": "#E5ECF6",
              "width": 0.5
             },
             "pattern": {
              "fillmode": "overlay",
              "size": 10,
              "solidity": 0.2
             }
            },
            "type": "barpolar"
           }
          ],
          "carpet": [
           {
            "aaxis": {
             "endlinecolor": "#2a3f5f",
             "gridcolor": "white",
             "linecolor": "white",
             "minorgridcolor": "white",
             "startlinecolor": "#2a3f5f"
            },
            "baxis": {
             "endlinecolor": "#2a3f5f",
             "gridcolor": "white",
             "linecolor": "white",
             "minorgridcolor": "white",
             "startlinecolor": "#2a3f5f"
            },
            "type": "carpet"
           }
          ],
          "choropleth": [
           {
            "colorbar": {
             "outlinewidth": 0,
             "ticks": ""
            },
            "type": "choropleth"
           }
          ],
          "contour": [
           {
            "colorbar": {
             "outlinewidth": 0,
             "ticks": ""
            },
            "colorscale": [
             [
              0,
              "#0d0887"
             ],
             [
              0.1111111111111111,
              "#46039f"
             ],
             [
              0.2222222222222222,
              "#7201a8"
             ],
             [
              0.3333333333333333,
              "#9c179e"
             ],
             [
              0.4444444444444444,
              "#bd3786"
             ],
             [
              0.5555555555555556,
              "#d8576b"
             ],
             [
              0.6666666666666666,
              "#ed7953"
             ],
             [
              0.7777777777777778,
              "#fb9f3a"
             ],
             [
              0.8888888888888888,
              "#fdca26"
             ],
             [
              1,
              "#f0f921"
             ]
            ],
            "type": "contour"
           }
          ],
          "contourcarpet": [
           {
            "colorbar": {
             "outlinewidth": 0,
             "ticks": ""
            },
            "type": "contourcarpet"
           }
          ],
          "heatmap": [
           {
            "colorbar": {
             "outlinewidth": 0,
             "ticks": ""
            },
            "colorscale": [
             [
              0,
              "#0d0887"
             ],
             [
              0.1111111111111111,
              "#46039f"
             ],
             [
              0.2222222222222222,
              "#7201a8"
             ],
             [
              0.3333333333333333,
              "#9c179e"
             ],
             [
              0.4444444444444444,
              "#bd3786"
             ],
             [
              0.5555555555555556,
              "#d8576b"
             ],
             [
              0.6666666666666666,
              "#ed7953"
             ],
             [
              0.7777777777777778,
              "#fb9f3a"
             ],
             [
              0.8888888888888888,
              "#fdca26"
             ],
             [
              1,
              "#f0f921"
             ]
            ],
            "type": "heatmap"
           }
          ],
          "heatmapgl": [
           {
            "colorbar": {
             "outlinewidth": 0,
             "ticks": ""
            },
            "colorscale": [
             [
              0,
              "#0d0887"
             ],
             [
              0.1111111111111111,
              "#46039f"
             ],
             [
              0.2222222222222222,
              "#7201a8"
             ],
             [
              0.3333333333333333,
              "#9c179e"
             ],
             [
              0.4444444444444444,
              "#bd3786"
             ],
             [
              0.5555555555555556,
              "#d8576b"
             ],
             [
              0.6666666666666666,
              "#ed7953"
             ],
             [
              0.7777777777777778,
              "#fb9f3a"
             ],
             [
              0.8888888888888888,
              "#fdca26"
             ],
             [
              1,
              "#f0f921"
             ]
            ],
            "type": "heatmapgl"
           }
          ],
          "histogram": [
           {
            "marker": {
             "pattern": {
              "fillmode": "overlay",
              "size": 10,
              "solidity": 0.2
             }
            },
            "type": "histogram"
           }
          ],
          "histogram2d": [
           {
            "colorbar": {
             "outlinewidth": 0,
             "ticks": ""
            },
            "colorscale": [
             [
              0,
              "#0d0887"
             ],
             [
              0.1111111111111111,
              "#46039f"
             ],
             [
              0.2222222222222222,
              "#7201a8"
             ],
             [
              0.3333333333333333,
              "#9c179e"
             ],
             [
              0.4444444444444444,
              "#bd3786"
             ],
             [
              0.5555555555555556,
              "#d8576b"
             ],
             [
              0.6666666666666666,
              "#ed7953"
             ],
             [
              0.7777777777777778,
              "#fb9f3a"
             ],
             [
              0.8888888888888888,
              "#fdca26"
             ],
             [
              1,
              "#f0f921"
             ]
            ],
            "type": "histogram2d"
           }
          ],
          "histogram2dcontour": [
           {
            "colorbar": {
             "outlinewidth": 0,
             "ticks": ""
            },
            "colorscale": [
             [
              0,
              "#0d0887"
             ],
             [
              0.1111111111111111,
              "#46039f"
             ],
             [
              0.2222222222222222,
              "#7201a8"
             ],
             [
              0.3333333333333333,
              "#9c179e"
             ],
             [
              0.4444444444444444,
              "#bd3786"
             ],
             [
              0.5555555555555556,
              "#d8576b"
             ],
             [
              0.6666666666666666,
              "#ed7953"
             ],
             [
              0.7777777777777778,
              "#fb9f3a"
             ],
             [
              0.8888888888888888,
              "#fdca26"
             ],
             [
              1,
              "#f0f921"
             ]
            ],
            "type": "histogram2dcontour"
           }
          ],
          "mesh3d": [
           {
            "colorbar": {
             "outlinewidth": 0,
             "ticks": ""
            },
            "type": "mesh3d"
           }
          ],
          "parcoords": [
           {
            "line": {
             "colorbar": {
              "outlinewidth": 0,
              "ticks": ""
             }
            },
            "type": "parcoords"
           }
          ],
          "pie": [
           {
            "automargin": true,
            "type": "pie"
           }
          ],
          "scatter": [
           {
            "fillpattern": {
             "fillmode": "overlay",
             "size": 10,
             "solidity": 0.2
            },
            "type": "scatter"
           }
          ],
          "scatter3d": [
           {
            "line": {
             "colorbar": {
              "outlinewidth": 0,
              "ticks": ""
             }
            },
            "marker": {
             "colorbar": {
              "outlinewidth": 0,
              "ticks": ""
             }
            },
            "type": "scatter3d"
           }
          ],
          "scattercarpet": [
           {
            "marker": {
             "colorbar": {
              "outlinewidth": 0,
              "ticks": ""
             }
            },
            "type": "scattercarpet"
           }
          ],
          "scattergeo": [
           {
            "marker": {
             "colorbar": {
              "outlinewidth": 0,
              "ticks": ""
             }
            },
            "type": "scattergeo"
           }
          ],
          "scattergl": [
           {
            "marker": {
             "colorbar": {
              "outlinewidth": 0,
              "ticks": ""
             }
            },
            "type": "scattergl"
           }
          ],
          "scattermapbox": [
           {
            "marker": {
             "colorbar": {
              "outlinewidth": 0,
              "ticks": ""
             }
            },
            "type": "scattermapbox"
           }
          ],
          "scatterpolar": [
           {
            "marker": {
             "colorbar": {
              "outlinewidth": 0,
              "ticks": ""
             }
            },
            "type": "scatterpolar"
           }
          ],
          "scatterpolargl": [
           {
            "marker": {
             "colorbar": {
              "outlinewidth": 0,
              "ticks": ""
             }
            },
            "type": "scatterpolargl"
           }
          ],
          "scatterternary": [
           {
            "marker": {
             "colorbar": {
              "outlinewidth": 0,
              "ticks": ""
             }
            },
            "type": "scatterternary"
           }
          ],
          "surface": [
           {
            "colorbar": {
             "outlinewidth": 0,
             "ticks": ""
            },
            "colorscale": [
             [
              0,
              "#0d0887"
             ],
             [
              0.1111111111111111,
              "#46039f"
             ],
             [
              0.2222222222222222,
              "#7201a8"
             ],
             [
              0.3333333333333333,
              "#9c179e"
             ],
             [
              0.4444444444444444,
              "#bd3786"
             ],
             [
              0.5555555555555556,
              "#d8576b"
             ],
             [
              0.6666666666666666,
              "#ed7953"
             ],
             [
              0.7777777777777778,
              "#fb9f3a"
             ],
             [
              0.8888888888888888,
              "#fdca26"
             ],
             [
              1,
              "#f0f921"
             ]
            ],
            "type": "surface"
           }
          ],
          "table": [
           {
            "cells": {
             "fill": {
              "color": "#EBF0F8"
             },
             "line": {
              "color": "white"
             }
            },
            "header": {
             "fill": {
              "color": "#C8D4E3"
             },
             "line": {
              "color": "white"
             }
            },
            "type": "table"
           }
          ]
         },
         "layout": {
          "annotationdefaults": {
           "arrowcolor": "#2a3f5f",
           "arrowhead": 0,
           "arrowwidth": 1
          },
          "autotypenumbers": "strict",
          "coloraxis": {
           "colorbar": {
            "outlinewidth": 0,
            "ticks": ""
           }
          },
          "colorscale": {
           "diverging": [
            [
             0,
             "#8e0152"
            ],
            [
             0.1,
             "#c51b7d"
            ],
            [
             0.2,
             "#de77ae"
            ],
            [
             0.3,
             "#f1b6da"
            ],
            [
             0.4,
             "#fde0ef"
            ],
            [
             0.5,
             "#f7f7f7"
            ],
            [
             0.6,
             "#e6f5d0"
            ],
            [
             0.7,
             "#b8e186"
            ],
            [
             0.8,
             "#7fbc41"
            ],
            [
             0.9,
             "#4d9221"
            ],
            [
             1,
             "#276419"
            ]
           ],
           "sequential": [
            [
             0,
             "#0d0887"
            ],
            [
             0.1111111111111111,
             "#46039f"
            ],
            [
             0.2222222222222222,
             "#7201a8"
            ],
            [
             0.3333333333333333,
             "#9c179e"
            ],
            [
             0.4444444444444444,
             "#bd3786"
            ],
            [
             0.5555555555555556,
             "#d8576b"
            ],
            [
             0.6666666666666666,
             "#ed7953"
            ],
            [
             0.7777777777777778,
             "#fb9f3a"
            ],
            [
             0.8888888888888888,
             "#fdca26"
            ],
            [
             1,
             "#f0f921"
            ]
           ],
           "sequentialminus": [
            [
             0,
             "#0d0887"
            ],
            [
             0.1111111111111111,
             "#46039f"
            ],
            [
             0.2222222222222222,
             "#7201a8"
            ],
            [
             0.3333333333333333,
             "#9c179e"
            ],
            [
             0.4444444444444444,
             "#bd3786"
            ],
            [
             0.5555555555555556,
             "#d8576b"
            ],
            [
             0.6666666666666666,
             "#ed7953"
            ],
            [
             0.7777777777777778,
             "#fb9f3a"
            ],
            [
             0.8888888888888888,
             "#fdca26"
            ],
            [
             1,
             "#f0f921"
            ]
           ]
          },
          "colorway": [
           "#636efa",
           "#EF553B",
           "#00cc96",
           "#ab63fa",
           "#FFA15A",
           "#19d3f3",
           "#FF6692",
           "#B6E880",
           "#FF97FF",
           "#FECB52"
          ],
          "font": {
           "color": "#2a3f5f"
          },
          "geo": {
           "bgcolor": "white",
           "lakecolor": "white",
           "landcolor": "#E5ECF6",
           "showlakes": true,
           "showland": true,
           "subunitcolor": "white"
          },
          "hoverlabel": {
           "align": "left"
          },
          "hovermode": "closest",
          "mapbox": {
           "style": "light"
          },
          "paper_bgcolor": "white",
          "plot_bgcolor": "#E5ECF6",
          "polar": {
           "angularaxis": {
            "gridcolor": "white",
            "linecolor": "white",
            "ticks": ""
           },
           "bgcolor": "#E5ECF6",
           "radialaxis": {
            "gridcolor": "white",
            "linecolor": "white",
            "ticks": ""
           }
          },
          "scene": {
           "xaxis": {
            "backgroundcolor": "#E5ECF6",
            "gridcolor": "white",
            "gridwidth": 2,
            "linecolor": "white",
            "showbackground": true,
            "ticks": "",
            "zerolinecolor": "white"
           },
           "yaxis": {
            "backgroundcolor": "#E5ECF6",
            "gridcolor": "white",
            "gridwidth": 2,
            "linecolor": "white",
            "showbackground": true,
            "ticks": "",
            "zerolinecolor": "white"
           },
           "zaxis": {
            "backgroundcolor": "#E5ECF6",
            "gridcolor": "white",
            "gridwidth": 2,
            "linecolor": "white",
            "showbackground": true,
            "ticks": "",
            "zerolinecolor": "white"
           }
          },
          "shapedefaults": {
           "line": {
            "color": "#2a3f5f"
           }
          },
          "ternary": {
           "aaxis": {
            "gridcolor": "white",
            "linecolor": "white",
            "ticks": ""
           },
           "baxis": {
            "gridcolor": "white",
            "linecolor": "white",
            "ticks": ""
           },
           "bgcolor": "#E5ECF6",
           "caxis": {
            "gridcolor": "white",
            "linecolor": "white",
            "ticks": ""
           }
          },
          "title": {
           "x": 0.05
          },
          "xaxis": {
           "automargin": true,
           "gridcolor": "white",
           "linecolor": "white",
           "ticks": "",
           "title": {
            "standoff": 15
           },
           "zerolinecolor": "white",
           "zerolinewidth": 2
          },
          "yaxis": {
           "automargin": true,
           "gridcolor": "white",
           "linecolor": "white",
           "ticks": "",
           "title": {
            "standoff": 15
           },
           "zerolinecolor": "white",
           "zerolinewidth": 2
          }
         }
        },
        "xaxis": {
         "anchor": "y",
         "domain": [
          0,
          1
         ],
         "title": {
          "text": "country"
         }
        },
        "yaxis": {
         "anchor": "x",
         "domain": [
          0,
          1
         ],
         "title": {
          "text": "lei"
         }
        }
       }
      }
     },
     "metadata": {},
     "output_type": "display_data"
    }
   ],
   "source": [
    "df_lei_pivot = df_lei.pivot(index='country', columns='year', values='le')\n",
    "df_lei_pivot.reset_index(inplace=True)\n",
    "df_lei_pivot['lei'] = df_lei_pivot[2007] - df_lei_pivot[1962]\n",
    "df_lei_pivot = df_lei_pivot[~df_lei_pivot['lei'].isnull()]\n",
    "df_lei_pivot = df_lei_pivot.sort_values('lei', ascending=False)\n",
    "\n",
    "\n",
    "highest_lei_increase = df_lei_pivot['lei'].max()\n",
    "print(f'highest life expectancy increase: {highest_lei_increase}')\n",
    "\n",
    "highest_lei_countries = (df_lei_pivot.loc[df_lei_pivot['lei']==highest_lei_increase])['country'].values.tolist()\n",
    "\n",
    "print(f'country (or countries) has shown the greatest increase in Life expectancy at birth between 1962 and 2007: {highest_lei_countries}')\n",
    "fig_lei = px.bar(df_lei_pivot, x = 'country', y ='lei')\n",
    "fig_lei.show()"
   ]
  },
  {
   "cell_type": "code",
   "execution_count": 4,
   "metadata": {},
   "outputs": [
    {
     "name": "stderr",
     "output_type": "stream",
     "text": [
      "[NbConvertApp] Converting notebook python_for_data_science.ipynb to html\n",
      "/opt/anaconda3/lib/python3.8/site-packages/nbconvert/filters/datatypefilter.py:39: UserWarning: Your element with mimetype(s) dict_keys(['application/vnd.plotly.v1+json']) is not able to be represented.\n",
      "  warn(\"Your element with mimetype(s) {mimetypes}\"\n",
      "[NbConvertApp] Writing 839315 bytes to python_for_data_science.html\n"
     ]
    },
    {
     "data": {
      "text/plain": [
       "0"
      ]
     },
     "execution_count": 4,
     "metadata": {},
     "output_type": "execute_result"
    }
   ],
   "source": [
    "import os\n",
    "\n",
    "os.system('jupyter nbconvert --to html python_for_data_science.ipynb')"
   ]
  }
 ],
 "metadata": {
  "kernelspec": {
   "display_name": "Python 3 (ipykernel)",
   "language": "python",
   "name": "python3"
  },
  "language_info": {
   "codemirror_mode": {
    "name": "ipython",
    "version": 3
   },
   "file_extension": ".py",
   "mimetype": "text/x-python",
   "name": "python",
   "nbconvert_exporter": "python",
   "pygments_lexer": "ipython3",
   "version": "3.9.12"
  },
  "vscode": {
   "interpreter": {
    "hash": "aee8b7b246df8f9039afb4144a1f6fd8d2ca17a180786b69acc140d282b71a49"
   }
  }
 },
 "nbformat": 4,
 "nbformat_minor": 2
}
